{
 "cells": [
  {
   "cell_type": "markdown",
   "metadata": {},
   "source": [
    "## Exploratory Data Analysis"
   ]
  },
  {
   "cell_type": "code",
   "execution_count": 1,
   "metadata": {},
   "outputs": [],
   "source": [
    "%matplotlib inline\n",
    "import numpy as np\n",
    "import matplotlib.pyplot as plt\n",
    "%load_ext autoreload\n",
    "%autoreload 2"
   ]
  },
  {
   "cell_type": "code",
   "execution_count": 2,
   "metadata": {},
   "outputs": [],
   "source": [
    "import pandas as pd #library to handle tables and have plots easily. Should be alright. Better if we ask.\n",
    "import seaborn as sns #library for the plot"
   ]
  },
  {
   "cell_type": "code",
   "execution_count": null,
   "metadata": {},
   "outputs": [],
   "source": [
    "y_train, input_train, ids_train = load_csv_data('train.csv', sub_sample=False)\n",
    "print(y_train.shape)\n",
    "print(input_train.shape)"
   ]
  },
  {
   "cell_type": "code",
   "execution_count": null,
   "metadata": {},
   "outputs": [],
   "source": [
    "y_test, input_test, ids_test = load_csv_data('test.csv', sub_sample=False)\n",
    "print(y_test.shape)\n",
    "print(input_test.shape)"
   ]
  },
  {
   "cell_type": "code",
   "execution_count": null,
   "metadata": {},
   "outputs": [],
   "source": [
    "# Train/test ratio\n",
    "train_perc = input_train.shape[0]/(input_train.shape[0] + input_test.shape[0])*100\n",
    "print(train_perc)\n",
    "\n",
    "test_perc = 100 - train_perc\n",
    "print(test_perc)"
   ]
  },
  {
   "cell_type": "code",
   "execution_count": null,
   "metadata": {},
   "outputs": [],
   "source": [
    "df_train = pd.DataFrame.from_records(input_train)\n",
    "df_train.shape\n",
    "df_train.describe()"
   ]
  },
  {
   "cell_type": "code",
   "execution_count": null,
   "metadata": {},
   "outputs": [],
   "source": [
    "#Positive sample data\n",
    "train_pos = df_train.iloc[y_train==1].copy()\n",
    "train_pos.shape\n",
    "train_pos.describe()"
   ]
  },
  {
   "cell_type": "code",
   "execution_count": null,
   "metadata": {},
   "outputs": [],
   "source": [
    "#Negative samples data\n",
    "train_neg = df_train.iloc[y_train==-1].copy()\n",
    "train_neg.shape\n",
    "train_neg.describe()"
   ]
  },
  {
   "cell_type": "code",
   "execution_count": null,
   "metadata": {},
   "outputs": [],
   "source": [
    "print(train_pos.shape)\n",
    "print(train_neg.shape)\n",
    "pos_perc = train_pos.shape[0]/(train_neg.shape[0] + train_pos.shape[0])*100\n",
    "print(\"percentage of positive is {}\".format(pos_perc))\n",
    "neg_perc = 100 - pos_perc\n",
    "print(\"percentage of negative is {}\".format(neg_perc))"
   ]
  },
  {
   "cell_type": "code",
   "execution_count": null,
   "metadata": {},
   "outputs": [],
   "source": [
    "# C'est cool ça donne la différence des features entre les Boson et les pas Boson\n",
    "# on voit des bonnes différences (sinon 0 partout)\n",
    "difference_description = train_pos.describe() - train_neg.describe()\n",
    "difference_description"
   ]
  },
  {
   "cell_type": "code",
   "execution_count": null,
   "metadata": {},
   "outputs": [],
   "source": [
    "#Should remove correlated data ?? Not sure.\n",
    "plt.figure(figsize=(6,4))\n",
    "sns.heatmap(train_pos.corr(),cmap='Blues',annot=False)    #sns is used here"
   ]
  },
  {
   "cell_type": "code",
   "execution_count": null,
   "metadata": {},
   "outputs": [],
   "source": [
    "correl = plt.matshow(df_train.corr())"
   ]
  },
  {
   "cell_type": "code",
   "execution_count": null,
   "metadata": {},
   "outputs": [],
   "source": [
    "df_train.plot.box()"
   ]
  },
  {
   "cell_type": "code",
   "execution_count": null,
   "metadata": {},
   "outputs": [],
   "source": [
    "#On peut voir des figures qui ont beaucoup de différences\n",
    "train_pos.plot.box()\n",
    "train_neg.plot.box()\n",
    "# Remove outliers ?"
   ]
  },
  {
   "cell_type": "code",
   "execution_count": null,
   "metadata": {},
   "outputs": [],
   "source": []
  }
 ],
 "metadata": {
  "kernelspec": {
   "display_name": "Python 3",
   "language": "python",
   "name": "python3"
  },
  "language_info": {
   "codemirror_mode": {
    "name": "ipython",
    "version": 3
   },
   "file_extension": ".py",
   "mimetype": "text/x-python",
   "name": "python",
   "nbconvert_exporter": "python",
   "pygments_lexer": "ipython3",
   "version": "3.6.5"
  }
 },
 "nbformat": 4,
 "nbformat_minor": 2
}
