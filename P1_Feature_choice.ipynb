{
 "cells": [
  {
   "cell_type": "code",
   "execution_count": 1,
   "metadata": {},
   "outputs": [],
   "source": [
    "%matplotlib inline\n",
    "import numpy as np\n",
    "import matplotlib.pyplot as plt\n",
    "%load_ext autoreload\n",
    "%autoreload 2\n",
    "np.set_printoptions(threshold=np.nan)"
   ]
  },
  {
   "cell_type": "code",
   "execution_count": 2,
   "metadata": {
    "collapsed": true
   },
   "outputs": [],
   "source": [
    "from proj1_helpers import load_csv_data, predict_labels, create_csv_submission\n",
    "from implement import ridge_sgd_hyperparamgamma, ridge_sgd_hyperparamlambda\n",
    "from preprocessing import standardize_train, add_bias, build_poly, standardize_test\n",
    "from other import remove_999, remove_999col, replace_999, accuracy,replace_1, cross_validation\n",
    "from plots import plot_train_valid, plot_train_valid_ridge\n",
    "import math"
   ]
  },
  {
   "cell_type": "markdown",
   "metadata": {},
   "source": [
    "## Load data\n",
    "The output data -1 is transformed into 0.\n",
    "\n",
    "The data must be sorted in 4 categories, depending on their -999 columns x_tr_1,x_tr_2...\n",
    "\n",
    "For each of the four categories, the columns with -999 are taken out.\n",
    "\n",
    "Then features are added as powers of features or combination of them"
   ]
  },
  {
   "cell_type": "code",
   "execution_count": 3,
   "metadata": {
    "collapsed": true
   },
   "outputs": [],
   "source": [
    "output_tr, input_tr, ids_train = load_csv_data('train.csv', sub_sample=False)"
   ]
  },
  {
   "cell_type": "code",
   "execution_count": 4,
   "metadata": {
    "collapsed": true
   },
   "outputs": [],
   "source": [
    "def split_categories(input_tr):\n",
    "    jet_num = 22\n",
    "    cat_0 = input_tr[input_tr[:, jet_num] == 0]\n",
    "    cat_1 = input_tr[input_tr[:, jet_num] == 1]\n",
    "    cat_2 = input_tr[input_tr[:, jet_num] == 2]\n",
    "    cat_3 = input_tr[input_tr[:, jet_num] == 3]\n",
    "    return cat_0, cat_1, cat_2, cat_3"
   ]
  },
  {
   "cell_type": "code",
   "execution_count": 5,
   "metadata": {
    "collapsed": true
   },
   "outputs": [],
   "source": [
    "cat_0, cat_1, cat_2, cat_3 = split_categories(input_tr)"
   ]
  },
  {
   "cell_type": "code",
   "execution_count": 6,
   "metadata": {
    "collapsed": true
   },
   "outputs": [],
   "source": [
    "y_trainLR=replace_1(output_tr)"
   ]
  },
  {
   "cell_type": "markdown",
   "metadata": {},
   "source": [
    "## Pre-processing"
   ]
  },
  {
   "cell_type": "code",
   "execution_count": 7,
   "metadata": {
    "collapsed": true
   },
   "outputs": [],
   "source": [
    "#input_train,y_train,input_valid,y_valid = cross_validation(input_tr,y_trainLR,1,10)\n",
    "input_train =input_tr\n",
    "y_train     =y_trainLR"
   ]
  },
  {
   "cell_type": "markdown",
   "metadata": {},
   "source": [
    "#### No 999 column\n",
    "We delete all the columns (features) containing a -999 inside. The y data are not changed. The x_valid features corresponding are also changed.\n",
    "\n",
    "All the data are unbiaised."
   ]
  },
  {
   "cell_type": "code",
   "execution_count": 8,
   "metadata": {
    "collapsed": true
   },
   "outputs": [],
   "source": [
    "_,x_valid,idl=load_csv_data('test.csv',sub_sample=False)"
   ]
  },
  {
   "cell_type": "code",
   "execution_count": 9,
   "metadata": {
    "collapsed": true
   },
   "outputs": [],
   "source": [
    "x_train_no_999col,x_valid_n       = remove_999col(input_train,x_valid)\n",
    "x_train_no_999col, mean, std      = standardize_train(x_train_no_999col)\n",
    "x_train_no_999colb                = add_bias(x_train_no_999col)\n",
    "x_valid_ne                        = standardize_test(x_valid_n,mean,std)"
   ]
  },
  {
   "cell_type": "code",
   "execution_count": 10,
   "metadata": {
    "collapsed": true
   },
   "outputs": [],
   "source": [
    "x_train_no_999col_pow             = build_poly(x_train_no_999col,2)\n",
    "x_valid_nee                       = build_poly(x_valid_ne,2)\n",
    "#x_train_no_999col_roo             = build_root(x_train_no_999col)"
   ]
  },
  {
   "cell_type": "markdown",
   "metadata": {},
   "source": [
    "## Constant definitions"
   ]
  },
  {
   "cell_type": "code",
   "execution_count": 16,
   "metadata": {},
   "outputs": [],
   "source": [
    "# Initialization\n",
    "w_initial     = np.random.rand(trx.shape[1])"
   ]
  },
  {
   "cell_type": "code",
   "execution_count": 15,
   "metadata": {
    "collapsed": true
   },
   "outputs": [],
   "source": [
    "# Define the parameters of the algorithm. (probably change afterwards)\n",
    "max_iters     = 100\n",
    "num_intervals = 20\n",
    "nb_fold       = 10\n",
    "nb_crossvalid = 1\n",
    "lambda_       = 0.5\n",
    "gamma         = 0.01\n",
    "\n",
    "# Decide which features are used \n",
    "trx = x_train_no_999col_pow\n",
    "try_= y_train\n"
   ]
  },
  {
   "cell_type": "markdown",
   "metadata": {},
   "source": [
    "### SGD Ridge regression gamma"
   ]
  },
  {
   "cell_type": "code",
   "execution_count": 17,
   "metadata": {},
   "outputs": [],
   "source": [
    "gammas        = np.linspace(0.00035,0.00037, num_intervals)\n",
    "lambda_       = 0.01\n",
    "loss_valid_sgd, loss_train_sgd,w = ridge_sgd_hyperparamgamma(lambda_,gammas, nb_fold,nb_crossvalid,max_iters, trx, try_,w_initial)"
   ]
  },
  {
   "cell_type": "code",
   "execution_count": 217,
   "metadata": {},
   "outputs": [
    {
     "data": {
      "image/png": "[encoded data removed]",
      "text/plain": [
       "<Figure size 432x288 with 1 Axes>"
      ]
     },
     "metadata": {},
     "output_type": "display_data"
    }
   ],
   "source": [
    "plot_train_valid(loss_train_sgd, loss_valid_sgd, gammas)"
   ]
  },
  {
   "cell_type": "code",
   "execution_count": 18,
   "metadata": {},
   "outputs": [
    {
     "name": "stdout",
     "output_type": "stream",
     "text": [
      "The best learning_rate is 0.000352105263158 with a loss on validation set of 381.76150508\n"
     ]
    }
   ],
   "source": [
    "# Minimum values for ls_sgd\n",
    "idx = np.argmin(loss_valid_sgd)\n",
    "learning_rate_sgd = gammas[idx-1]\n",
    "ls_sgd_loss = loss_valid_sgd[idx-1]\n",
    "print(\"The best learning_rate is\",learning_rate_sgd,\"with a loss on validation set of\",ls_sgd_loss)"
   ]
  },
  {
   "cell_type": "markdown",
   "metadata": {},
   "source": [
    "### SGD Ridge regression Lambda"
   ]
  },
  {
   "cell_type": "code",
   "execution_count": 23,
   "metadata": {},
   "outputs": [],
   "source": [
    "gamma         = learning_rate_sgd\n",
    "lambdas       = np.linspace(0.000001, 10000, num_intervals)\n",
    "valid_r_sgd, train_r_sgd,w = ridge_sgd_hyperparamlambda(lambdas, gamma, nb_fold, nb_crossvalid, max_iters, trx, try_,w_initial)"
   ]
  },
  {
   "cell_type": "code",
   "execution_count": 24,
   "metadata": {},
   "outputs": [
    {
     "data": {
      "image/png": "[encoded data removed]",
      "text/plain": [
       "<matplotlib.figure.Figure at 0x4a1572e8>"
      ]
     },
     "metadata": {},
     "output_type": "display_data"
    }
   ],
   "source": [
    "plot_train_valid(train_r_sgd, valid_r_sgd, lambdas)"
   ]
  },
  {
   "cell_type": "code",
   "execution_count": 25,
   "metadata": {},
   "outputs": [
    {
     "name": "stdout",
     "output_type": "stream",
     "text": [
      "526.315790421\n",
      "0.017018\n"
     ]
    }
   ],
   "source": [
    "# Minimum values for ls_sgd\n",
    "ind = np.unravel_index(np.argmin(valid_r_sgd, axis=None), valid_r_sgd.shape)\n",
    "lambd = lambdas[ind]\n",
    "ls_sgd_loss = valid_r_sgd[ind]\n",
    "print(lambd)\n",
    "print(ls_sgd_loss)"
   ]
  },
  {
   "cell_type": "markdown",
   "metadata": {},
   "source": [
    "# Prediction de chaque méthode pour Kaggle"
   ]
  },
  {
   "cell_type": "code",
   "execution_count": null,
   "metadata": {
    "collapsed": true
   },
   "outputs": [],
   "source": []
  },
  {
   "cell_type": "code",
   "execution_count": 165,
   "metadata": {
    "collapsed": true
   },
   "outputs": [],
   "source": [
    "y_pred = predict_labels(w, x_valid_nee)"
   ]
  },
  {
   "cell_type": "code",
   "execution_count": 166,
   "metadata": {
    "collapsed": true
   },
   "outputs": [],
   "source": [
    "create_csv_submission(idl, y_pred, \"submission.csv\")"
   ]
  },
  {
   "cell_type": "code",
   "execution_count": null,
   "metadata": {
    "collapsed": true
   },
   "outputs": [],
   "source": []
  }
 ],
 "metadata": {
  "kernelspec": {
   "display_name": "Python 3",
   "language": "python",
   "name": "python3"
  },
  "language_info": {
   "codemirror_mode": {
    "name": "ipython",
    "version": 3
   },
   "file_extension": ".py",
   "mimetype": "text/x-python",
   "name": "python",
   "nbconvert_exporter": "python",
   "pygments_lexer": "ipython3",
   "version": "3.6.5"
  }
 },
 "nbformat": 4,
 "nbformat_minor": 2
}
