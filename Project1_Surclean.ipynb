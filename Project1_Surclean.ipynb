{
 "cells": [
  {
   "cell_type": "code",
   "execution_count": 23,
   "metadata": {},
   "outputs": [
    {
     "name": "stdout",
     "output_type": "stream",
     "text": [
      "The autoreload extension is already loaded. To reload it, use:\n",
      "  %reload_ext autoreload\n"
     ]
    }
   ],
   "source": [
    "%matplotlib inline\n",
    "import numpy as np\n",
    "import matplotlib.pyplot as plt\n",
    "%load_ext autoreload\n",
    "%autoreload 2\n",
    "np.set_printoptions(threshold=np.nan)"
   ]
  },
  {
   "cell_type": "code",
   "execution_count": 120,
   "metadata": {},
   "outputs": [],
   "source": [
    "from proj1_helpers import load_csv_data, predict_labels, create_csv_submission\n",
    "from implementations import least_squares, least_squares_GD, least_squares_SGD, compute_loss_ls, ridge_regression, ridge_GD, ridge_SGD, logistic_regression, reg_logistic_regression, compute_logreg_loss\n",
    "from preprocessing import standardize_train, standardize_test, add_bias, build_poly\n",
    "from other import remove_999, remove_999col, replace_999, accuracy,replace_1, cross_validation\n",
    "from plots import plot_train_test\n",
    "import math"
   ]
  },
  {
   "cell_type": "markdown",
   "metadata": {},
   "source": [
    "## Load data"
   ]
  },
  {
   "cell_type": "code",
   "execution_count": 112,
   "metadata": {},
   "outputs": [],
   "source": [
    "output_tr, input_tr, ids_train = load_csv_data('train.csv', sub_sample=False)"
   ]
  },
  {
   "cell_type": "markdown",
   "metadata": {},
   "source": [
    "## Pre-processing"
   ]
  },
  {
   "cell_type": "code",
   "execution_count": 135,
   "metadata": {},
   "outputs": [],
   "source": [
    "input_train,y_train,input_test,y_test = cross_validation(input_tr,output_tr,1,10)"
   ]
  },
  {
   "cell_type": "markdown",
   "metadata": {},
   "source": [
    "#### No 999 line\n",
    "We delete all the lines containing a -999 inside. The y lines corresponding are also deleted. The test data are not changed.\n",
    "\n",
    "We also try to have or not a bias."
   ]
  },
  {
   "cell_type": "code",
   "execution_count": null,
   "metadata": {},
   "outputs": [],
   "source": []
  },
  {
   "cell_type": "code",
   "execution_count": 136,
   "metadata": {},
   "outputs": [],
   "source": [
    "# Careful to standardize the x_test with the mean and std of x_train\n",
    "x_train_no_999lin, y_train_no_999lin = remove_999(input_train, y_train)\n",
    "\n",
    "x_train_no_999lin, mean, std      = standardize_train(x_train_no_999lin)\n",
    "x_train_no_999linb                = add_bias(x_train_no_999lin)  # data biased\n",
    "\n",
    "x_test                         = standardize_test(input_test, mean, std)\n",
    "x_testb                        = add_bias(x_test)                  # data biased"
   ]
  },
  {
   "cell_type": "markdown",
   "metadata": {},
   "source": [
    "#### No 999 column\n",
    "We delete all the columns (features) containing a -999 inside. The y data are not changed. The x_test features corresponding are also changed.\n",
    "\n",
    "All the data are unbiaised."
   ]
  },
  {
   "cell_type": "code",
   "execution_count": 137,
   "metadata": {},
   "outputs": [],
   "source": [
    "x_train_no_999col,x_test_no_999col= remove_999col(input_train,input_test)\n",
    "x_train_no_999col, mean, std      = standardize_train(x_train_no_999col)\n",
    "x_train_no_999colb                = add_bias(x_train_no_999col)\n",
    "x_test_no_999col                  = standardize_test(x_test_no_999col, mean, std)\n",
    "x_test_no_999colb                 = add_bias(x_test_no_999col)"
   ]
  },
  {
   "cell_type": "markdown",
   "metadata": {},
   "source": [
    "#### All features\n",
    "We don't modify the data."
   ]
  },
  {
   "cell_type": "code",
   "execution_count": 138,
   "metadata": {},
   "outputs": [],
   "source": [
    "x_train, mean, std                = standardize_train(input_train)\n",
    "x_trainb                          = add_bias(x_train)\n",
    "x_te                              = standardize_test(input_test,mean,std)\n",
    "x_teb                             = add_bias(x_te)"
   ]
  },
  {
   "cell_type": "markdown",
   "metadata": {},
   "source": [
    "#### Put 999 to 0\n",
    "We replace all the 999 with a 0 inside the train data.\n",
    "We also relace them in the test data."
   ]
  },
  {
   "cell_type": "code",
   "execution_count": 139,
   "metadata": {},
   "outputs": [],
   "source": [
    "x_train_0_999                     = replace_999(input_train)\n",
    "x_train_0_999, mean, std          = standardize_train(x_train_0_999)\n",
    "x_train_0_999b                    = add_bias(x_train_0_999)\n",
    "x_te_0_999                        = replace_999(input_test)\n",
    "x_te_0_999                        = standardize_test(x_te_0_999,mean,std)\n",
    "x_te_0_999b                       = add_bias(x_te_0_999)"
   ]
  },
  {
   "cell_type": "markdown",
   "metadata": {},
   "source": [
    "#### Compare losses\n",
    "We compute the model and the losses corresponding with least_squares.\n",
    "We want to see what data processing is the best."
   ]
  },
  {
   "cell_type": "code",
   "execution_count": 140,
   "metadata": {},
   "outputs": [],
   "source": [
    "w,loss                            = least_squares(y_train,x_train)\n",
    "wb,lossb                          = least_squares(y_train,x_trainb)\n",
    "w_ls, loss_ls                     = least_squares(y_train_no_999lin, x_train_no_999lin)\n",
    "w_lsb, loss_lsb                   = least_squares(y_train_no_999lin, x_train_no_999linb)\n",
    "w_ls_red,loss_ls_red              = least_squares(y_train, x_train_no_999col)\n",
    "w_ls_redb,loss_ls_redb            = least_squares(y_train, x_train_no_999colb)\n",
    "w_ls_0,loss_0                     = least_squares(y_train, x_train_0_999)\n",
    "w_ls_0b,loss_0b                   = least_squares(y_train, x_train_0_999b)\n",
    "\n",
    "loss_test                         = compute_loss_ls(y_test,x_te,w)\n",
    "loss_testb                        = compute_loss_ls(y_test,x_teb,wb)\n",
    "loss_ls_test                      = compute_loss_ls(y_test,x_test,w_ls)\n",
    "loss_lsb_test                     = compute_loss_ls(y_test,x_testb,w_lsb)\n",
    "loss_ls_red_test                  = compute_loss_ls(y_test,x_test_no_999col,w_ls_red)\n",
    "loss_ls_red_testb                 = compute_loss_ls(y_test,x_test_no_999colb,w_ls_redb)\n",
    "loss_ls_0_test                    = compute_loss_ls(y_test,x_test,w_ls_0)\n",
    "loss_ls_0_testb                   = compute_loss_ls(y_test,x_testb,w_ls_0b)"
   ]
  },
  {
   "cell_type": "code",
   "execution_count": 141,
   "metadata": {},
   "outputs": [
    {
     "name": "stdout",
     "output_type": "stream",
     "text": [
      "Accuracy with least squares for \t train \t \t \t test\n",
      "No preprocessing \t \t \t 0.38872273293627413 \t 0.5745995117756292\n",
      "No preprocessing biaised \t \t 0.33937727263088907 \t 0.4231021116727781\n",
      "Delete the lines with 999 \t \t 0.3693313868026788 \t 0.4015369398484179\n",
      "Delete the lines with 999 biaised \t 0.367416201055832 \t 0.38741095289891514\n",
      "Delete features with 999 \t \t 0.4019102834459749 \t 0.4017923910781926\n",
      "Delete features with 999 biaised \t 0.35256482313975995 \t 0.35208123687648096\n",
      "Replace all 999 by 0 \t \t \t 0.38828302686048394 \t 39.32084364240796\n",
      "Replace all 999 by 0 biaised \t \t 0.3389375665548949 \t 39.47950827997806\n"
     ]
    }
   ],
   "source": [
    "print(\"Accuracy with least squares for \\t train \\t \\t \\t test\")\n",
    "print(\"No preprocessing \\t \\t \\t\", loss,\"\\t\",loss_test)\n",
    "print(\"No preprocessing biaised \\t \\t\", lossb,\"\\t\",loss_testb)\n",
    "print(\"Delete the lines with 999 \\t \\t\",loss_ls,\"\\t\",loss_ls_test)\n",
    "print(\"Delete the lines with 999 biaised \\t\",loss_lsb,\"\\t\",loss_lsb_test)\n",
    "print(\"Delete features with 999 \\t \\t\",loss_ls_red,\"\\t\", loss_ls_red_test)\n",
    "print(\"Delete features with 999 biaised \\t\",loss_ls_redb,\"\\t\", loss_ls_red_testb)\n",
    "print(\"Replace all 999 by 0 \\t \\t \\t\", loss_0,\"\\t\", loss_ls_0_test)\n",
    "print(\"Replace all 999 by 0 biaised \\t \\t\", loss_0b,\"\\t\", loss_ls_0_testb)"
   ]
  },
  {
   "cell_type": "markdown",
   "metadata": {},
   "source": [
    "#### Compare the accuracies"
   ]
  },
  {
   "cell_type": "code",
   "execution_count": 142,
   "metadata": {},
   "outputs": [
    {
     "name": "stdout",
     "output_type": "stream",
     "text": [
      "[0. 1. 0. 0. 1. 0. 0. 1. 0. 0.] [ 1. -1. -1. -1. -1. -1.  1.  1. -1.  1.]\n",
      "[0. 0. 0. 0. 0. 0. 0. 1. 0. 0.] [ 1. -1. -1. -1. -1. -1.  1.  1. -1.  1.]\n",
      "[0. 0. 0. 0. 0. 0. 0. 0. 0. 0.] [ 1. -1. -1. -1. -1. -1.  1.  1. -1.  1.]\n",
      "[0. 0. 0. 0. 0. 0. 0. 0. 0. 0.] [ 1. -1. -1. -1. -1. -1.  1.  1. -1.  1.]\n",
      "[0. 0. 0. 0. 0. 0. 0. 1. 0. 0.] [ 1. -1. -1. -1. -1. -1.  1.  1. -1.  1.]\n",
      "[0. 0. 0. 0. 0. 0. 0. 0. 0. 0.] [ 1. -1. -1. -1. -1. -1.  1.  1. -1.  1.]\n",
      "[1. 0. 0. 0. 1. 1. 0. 0. 1. 1.] [ 1. -1. -1. -1. -1. -1.  1.  1. -1.  1.]\n",
      "[1. 0. 0. 0. 1. 1. 0. 0. 1. 1.] [ 1. -1. -1. -1. -1. -1.  1.  1. -1.  1.]\n"
     ]
    }
   ],
   "source": [
    "acc                    = accuracy(y_test,x_te,w)\n",
    "accb                   = accuracy(y_test,x_teb,wb)\n",
    "acc_ls                 = accuracy(y_test,x_test,w_ls)\n",
    "acc_lsb                = accuracy(y_test,x_testb,w_lsb)\n",
    "acc_ls_red             = accuracy(y_test,x_test_no_999col,w_ls_red)\n",
    "acc_ls_redb            = accuracy(y_test,x_test_no_999colb,w_ls_redb)\n",
    "acc_ls_0               = accuracy(y_test,x_test,w_ls_0)\n",
    "acc_ls_0b              = accuracy(y_test,x_testb,w_ls_0b)"
   ]
  },
  {
   "cell_type": "code",
   "execution_count": 143,
   "metadata": {},
   "outputs": [
    {
     "name": "stdout",
     "output_type": "stream",
     "text": [
      "No process \t\t 0.20516\n",
      "No process biaised\t 0.08432\n",
      "No 999 lines \t\t 0.05236\n",
      "No 999 lines biaised\t 0.04204\n",
      "No 999 colum \t\t 0.08468\n",
      "No 999 colum biaised\t 0.01228\n",
      "No 999 but 0 \t\t 0.1498\n",
      "No 999 but 0 biaised\t 0.1498\n"
     ]
    }
   ],
   "source": [
    "print(\"No process \\t\\t\", acc)\n",
    "print(\"No process biaised\\t\",accb)\n",
    "print(\"No 999 lines \\t\\t\",acc_ls)\n",
    "print(\"No 999 lines biaised\\t\",acc_lsb)\n",
    "print(\"No 999 colum \\t\\t\",acc_ls_red)\n",
    "print(\"No 999 colum biaised\\t\",acc_ls_redb)\n",
    "print(\"No 999 but 0 \\t\\t\",acc_ls_0)\n",
    "print(\"No 999 but 0 biaised\\t\",acc_ls_0)"
   ]
  },
  {
   "cell_type": "markdown",
   "metadata": {},
   "source": [
    "## Constant definitions"
   ]
  },
  {
   "cell_type": "code",
   "execution_count": 73,
   "metadata": {},
   "outputs": [],
   "source": [
    "# Define the parameters of the algorithm. (probably change afterwards)\n",
    "max_iters     = 100                                 \n",
    "batch_size    = 1\n",
    "\n",
    "# Initialization\n",
    "w_initial     = np.random.rand(x_train_no_999.shape[1])\n",
    "w_initial_ub  = np.random.rand(x_train_no_999_ub.shape[1])\n",
    "w_initial_red = np.random.rand(x_train_no_999col.shape[1])"
   ]
  },
  {
   "cell_type": "code",
   "execution_count": 25,
   "metadata": {},
   "outputs": [],
   "source": [
    "# For grid search of hyperparameters\n",
    "num_intervals = 10\n",
    "gammas        = np.linspace(0.005, 0.2, num_intervals)"
   ]
  },
  {
   "cell_type": "markdown",
   "metadata": {},
   "source": [
    "  ###  Test with bigger degree"
   ]
  },
  {
   "cell_type": "code",
   "execution_count": 53,
   "metadata": {},
   "outputs": [],
   "source": [
    "def model_degrees(x_tr,x_te,y_tr,y_te, w_init, degrees, max_iters):\n",
    "    \n",
    "    x_train_pow=build_poly(x_tr,degrees)\n",
    "    x_test_pow=build_poly(x_te,degrees)\n",
    "    \n",
    "    w_init=np.concatenate((w_init,np.zeros(x_train_pow.shape[1]-x_tr.shape[1])),axis=0)\n",
    "    \n",
    "    w_sgd,loss_tr=least_squares_SGD(y_tr, x_train_pow, w_init, max_iters, 0.002)\n",
    "    #print(\"size of x_tr\",x_train_pow.shape,\"shape of w_sgd\",w_sgd.shape)\n",
    "    loss_te = compute_loss_ls(y_te,x_test_pow,w_sgd)\n",
    "    \n",
    "    return loss_tr,loss_te"
   ]
  },
  {
   "cell_type": "code",
   "execution_count": 74,
   "metadata": {},
   "outputs": [
    {
     "name": "stdout",
     "output_type": "stream",
     "text": [
      "[]\n",
      "[0.565419737498899]\n",
      "[0.565419737498899, 0.591581759990604]\n",
      "[0.565419737498899, 0.591581759990604, 0.49958892445018643]\n",
      "[0.565419737498899, 0.591581759990604, 0.49958892445018643, 0.5221980796899316]\n"
     ]
    }
   ],
   "source": [
    "ac_tr_ub=[]\n",
    "ac_te_ub=[]\n",
    "ac_tr_col=[]\n",
    "ac_te_col=[]\n",
    "for degrees in range(1,6,1):\n",
    "    acc_train,acc_test=model_degrees(x_train_no_999_ub,x_test_ub,y_train_no_999,y_test,w_initial_ub,degrees,max_iters)\n",
    "    print(ac_tr_ub)\n",
    "    ac_tr_ub.append(acc_train)\n",
    "    ac_te_ub.append(acc_test)\n",
    "    acc_train,acc_test=model_degrees(x_train_no_999col,x_test_no_999col,y_train,y_test,w_initial_red,degrees,max_iters)\n",
    "    ac_tr_col.append(acc_train)\n",
    "    ac_te_col.append(acc_test)"
   ]
  },
  {
   "cell_type": "code",
   "execution_count": 75,
   "metadata": {},
   "outputs": [
    {
     "data": {
      "text/plain": [
       "[<matplotlib.lines.Line2D at 0x16de4e17f0>,\n",
       " <matplotlib.lines.Line2D at 0x16de4e1940>,\n",
       " <matplotlib.lines.Line2D at 0x16de4e1dd8>,\n",
       " <matplotlib.lines.Line2D at 0x16de4ec240>]"
      ]
     },
     "execution_count": 75,
     "metadata": {},
     "output_type": "execute_result"
    },
    {
     "data": {
      "image/png": "[encoded data removed]",
      "text/plain": [
       "<Figure size 432x288 with 1 Axes>"
      ]
     },
     "metadata": {},
     "output_type": "display_data"
    }
   ],
   "source": [
    "plt.plot(ac_tr_ub,'g-',ac_te_ub,'r-',ac_tr_col,'b-',ac_te_col,'y-')"
   ]
  },
  {
   "cell_type": "markdown",
   "metadata": {},
   "source": [
    "### Test with combination of features"
   ]
  },
  {
   "cell_type": "code",
   "execution_count": null,
   "metadata": {},
   "outputs": [],
   "source": [
    "x_train_com=build_comb()"
   ]
  },
  {
   "cell_type": "markdown",
   "metadata": {},
   "source": [
    "## GD Least squares"
   ]
  },
  {
   "cell_type": "code",
   "execution_count": 217,
   "metadata": {},
   "outputs": [],
   "source": [
    "def ls_gd_hyperparam(gammas, nb_fold, x_train, y_train):\n",
    "    #print(\"y {}\".format(y_train))\n",
    "    loss_valid = np.zeros([len(gammas), nb_fold])\n",
    "    loss_train = np.zeros([len(gammas), nb_fold])\n",
    "    \n",
    "    nb_elem = math.floor(x_train.shape[0]/nb_fold)\n",
    "    \n",
    "    for i, gamma in enumerate(gammas):\n",
    "        for k in range(nb_fold):\n",
    "            x_valid_k = x_train[k*nb_elem:(k+1)*nb_elem][:]  \n",
    "            y_valid_k = y_train[k*nb_elem:(k+1)*nb_elem]\n",
    "            \n",
    "            x_train_k = np.concatenate([x_train[0:k*nb_elem][:], x_train[(k+1)*nb_elem:][:]])\n",
    "            y_train_k = np.concatenate([y_train[0:k*nb_elem],    y_train[(k+1)*nb_elem:]   ]) \n",
    "                                        \n",
    "            w, loss_tr = least_squares_GD(y_train_k, x_train_k, w_initial, max_iters, gamma)\n",
    "            loss_train[i][k] = loss_tr\n",
    "            loss_valid[i][k] = compute_loss_ls(y_valid_k, x_valid_k, w)\n",
    "            \n",
    "    return loss_valid, loss_train "
   ]
  },
  {
   "cell_type": "code",
   "execution_count": null,
   "metadata": {
    "scrolled": true
   },
   "outputs": [],
   "source": [
    "loss_valid_gd, loss_train_gd = ls_gd_hyperparam(gammas, nb_fold, x_train_no_999, y_train_no_999)"
   ]
  },
  {
   "cell_type": "code",
   "execution_count": 219,
   "metadata": {},
   "outputs": [
    {
     "ename": "NameError",
     "evalue": "name 'loss_train_gd' is not defined",
     "output_type": "error",
     "traceback": [
      "\u001b[1;31m---------------------------------------------------------------------------\u001b[0m",
      "\u001b[1;31mNameError\u001b[0m                                 Traceback (most recent call last)",
      "\u001b[1;32m<ipython-input-219-68a6a12b8b60>\u001b[0m in \u001b[0;36m<module>\u001b[1;34m()\u001b[0m\n\u001b[1;32m----> 1\u001b[1;33m \u001b[0mtrain_gd_mean\u001b[0m \u001b[1;33m=\u001b[0m \u001b[0mnp\u001b[0m\u001b[1;33m.\u001b[0m\u001b[0mmean\u001b[0m\u001b[1;33m(\u001b[0m\u001b[0mloss_train_gd\u001b[0m\u001b[1;33m,\u001b[0m \u001b[0maxis\u001b[0m\u001b[1;33m=\u001b[0m\u001b[1;36m1\u001b[0m\u001b[1;33m)\u001b[0m\u001b[1;33m\u001b[0m\u001b[0m\n\u001b[0m\u001b[0;32m      2\u001b[0m \u001b[0mvalid_gd_mean\u001b[0m \u001b[1;33m=\u001b[0m \u001b[0mnp\u001b[0m\u001b[1;33m.\u001b[0m\u001b[0mmean\u001b[0m\u001b[1;33m(\u001b[0m\u001b[0mloss_valid_gd\u001b[0m\u001b[1;33m,\u001b[0m \u001b[0maxis\u001b[0m\u001b[1;33m=\u001b[0m\u001b[1;36m1\u001b[0m\u001b[1;33m)\u001b[0m\u001b[1;33m\u001b[0m\u001b[0m\n",
      "\u001b[1;31mNameError\u001b[0m: name 'loss_train_gd' is not defined"
     ]
    }
   ],
   "source": [
    "train_gd_mean = np.mean(loss_train_gd, axis=1)\n",
    "valid_gd_mean = np.mean(loss_valid_gd, axis=1)"
   ]
  },
  {
   "cell_type": "code",
   "execution_count": 32,
   "metadata": {
    "scrolled": true
   },
   "outputs": [
    {
     "data": {
      "image/png": "[encoded data removed]",
      "text/plain": [
       "<matplotlib.figure.Figure at 0x1b5667634e0>"
      ]
     },
     "metadata": {},
     "output_type": "display_data"
    }
   ],
   "source": [
    "plot_train_test(train_gd_mean, valid_gd_mean, gammas)"
   ]
  },
  {
   "cell_type": "code",
   "execution_count": 33,
   "metadata": {},
   "outputs": [
    {
     "name": "stdout",
     "output_type": "stream",
     "text": [
      "0.2\n",
      "0.36820105888729493\n"
     ]
    }
   ],
   "source": [
    "# Minimum values for ls_gd\n",
    "idx = np.argmin(valid_gd_mean)\n",
    "learning_rate = gammas[idx]\n",
    "ls_gd_loss = np.min(valid_gd_mean)\n",
    "print(learning_rate)\n",
    "print(ls_gd_loss)"
   ]
  },
  {
   "cell_type": "markdown",
   "metadata": {},
   "source": [
    "Test model"
   ]
  },
  {
   "cell_type": "code",
   "execution_count": 17,
   "metadata": {
    "collapsed": true
   },
   "outputs": [],
   "source": [
    "w_ls_gd, loss_tr = least_squares_GD(y_train_no_999, x_train_no_999, w_initial, max_iters=200, gamma=0.2)"
   ]
  },
  {
   "cell_type": "code",
   "execution_count": 18,
   "metadata": {},
   "outputs": [
    {
     "name": "stdout",
     "output_type": "stream",
     "text": [
      "0.8621933063258705\n"
     ]
    }
   ],
   "source": [
    "accuracy_ls_gd = accuracy(w_ls_gd, x_test, y_test)\n",
    "print(accuracy_ls_gd)"
   ]
  },
  {
   "cell_type": "markdown",
   "metadata": {},
   "source": [
    "# SGD Least squares"
   ]
  },
  {
   "cell_type": "code",
   "execution_count": 225,
   "metadata": {},
   "outputs": [],
   "source": [
    "def ls_sgd_hyperparam_simple(gammas, nb_fold, x_train, y_train,max_iters):\n",
    "    loss_valid = np.zeros([len(gammas), nb_fold])\n",
    "    loss_train = np.zeros([len(gammas), nb_fold])\n",
    "    \n",
    "    nb_elem = math.floor(x_train.shape[0]/nb_fold)\n",
    "    \n",
    "    for i, gamma in enumerate(gammas):\n",
    "        print(i)                                        \n",
    "        w, loss_tr = least_squares_SGD(y_train, x_train, w_initial, max_iters, gamma)\n",
    "        loss_train[i] = loss_tr\n",
    "        loss_valid[i] = compute_loss_ls(y_test, x_test, w)\n",
    "            \n",
    "    return loss_valid, loss_train "
   ]
  },
  {
   "cell_type": "code",
   "execution_count": 249,
   "metadata": {},
   "outputs": [],
   "source": [
    "\n",
    "def ls_sgd_hyperparam(gammas, nb_fold, x_train, y_train,max_iters):\n",
    "    loss_valid = np.zeros([len(gammas), nb_fold])\n",
    "    loss_train = np.zeros([len(gammas), nb_fold])\n",
    "    loss_test = np.zeros([len(gammas),1])\n",
    "    \n",
    "    nb_elem = math.floor(x_train.shape[0]/nb_fold)\n",
    "    \n",
    "    for i, gamma in enumerate(gammas):\n",
    "        print(i)\n",
    "        for k in range(nb_fold):\n",
    "            x_valid_k = x_train[k*nb_elem:(k+1)*nb_elem][:]  \n",
    "            y_valid_k = y_train[k*nb_elem:(k+1)*nb_elem]\n",
    "            \n",
    "            x_train_k = np.concatenate([x_train[0:k*nb_elem][:], x_train[(k+1)*nb_elem:][:]])\n",
    "            y_train_k = np.concatenate([y_train[0:k*nb_elem],    y_train[(k+1)*nb_elem:]   ]) \n",
    "                                        \n",
    "            w, loss_tr = least_squares_SGD(y_train_k, x_train_k, w_initial, max_iters, gamma)\n",
    "            loss_train[i][k] = loss_tr\n",
    "            loss_valid[i][k] = compute_loss_ls(y_valid_k, x_valid_k, w)\n",
    "        \n",
    "        loss_test[i] = compute_loss_ls(y_test, x_test, w)\n",
    "            \n",
    "    return loss_valid, loss_train,w"
   ]
  },
  {
   "cell_type": "code",
   "execution_count": 250,
   "metadata": {},
   "outputs": [
    {
     "name": "stdout",
     "output_type": "stream",
     "text": [
      "0\n",
      "1\n"
     ]
    }
   ],
   "source": [
    "max_iters=200\n",
    "num_intervals=2\n",
    "gammas = np.linspace(0.0002, 0.03, num_intervals)\n",
    "loss_valid_sgd, loss_train_sgd,w = ls_sgd_hyperparam(gammas, nb_fold, x_train_no_999, y_train_no_999,max_iters)"
   ]
  },
  {
   "cell_type": "code",
   "execution_count": 254,
   "metadata": {},
   "outputs": [],
   "source": [
    "train_sgd_mean = np.mean(loss_train_sgd, axis=1)\n",
    "valid_sgd_mean = np.mean(loss_valid_sgd, axis=1)"
   ]
  },
  {
   "cell_type": "code",
   "execution_count": 258,
   "metadata": {},
   "outputs": [
    {
     "data": {
      "image/png": "[encoded data removed]",
      "text/plain": [
       "<Figure size 432x288 with 1 Axes>"
      ]
     },
     "metadata": {},
     "output_type": "display_data"
    },
    {
     "name": "stdout",
     "output_type": "stream",
     "text": [
      "1677.2726817551716\n"
     ]
    }
   ],
   "source": [
    "plot_train_test(train_sgd_mean, valid_sgd_mean, gammas)"
   ]
  },
  {
   "cell_type": "code",
   "execution_count": 257,
   "metadata": {},
   "outputs": [
    {
     "name": "stdout",
     "output_type": "stream",
     "text": [
      "0.03\n",
      "2.591669576061915\n"
     ]
    }
   ],
   "source": [
    "# Minimum values for ls_sgd\n",
    "idx = np.argmin(valid_sgd_mean)\n",
    "learning_rate = gammas[idx]\n",
    "ls_sgd_loss = np.min(valid_sgd_mean)\n",
    "print(learning_rate)\n",
    "print(ls_sgd_loss)"
   ]
  },
  {
   "cell_type": "code",
   "execution_count": 36,
   "metadata": {
    "collapsed": true
   },
   "outputs": [],
   "source": [
    "w_ls_sgd, loss_tr = least_squares_SGD(y_train_no_999, x_train_no_999, w_initial, max_iters=200, gamma=0.0035)"
   ]
  },
  {
   "cell_type": "code",
   "execution_count": 37,
   "metadata": {},
   "outputs": [
    {
     "name": "stdout",
     "output_type": "stream",
     "text": [
      "0.813794571993\n"
     ]
    }
   ],
   "source": [
    "accuracy_ls_sgd = accuracy(w_ls_sgd, x_test, y_test)\n",
    "print(accuracy_ls_sgd)"
   ]
  },
  {
   "cell_type": "markdown",
   "metadata": {},
   "source": [
    "## DONC POUR SGD GAMMA = 0.0035\n",
    "## POUR SG GAMMA = 0.2"
   ]
  },
  {
   "cell_type": "markdown",
   "metadata": {},
   "source": [
    "## SGD Ridge regression"
   ]
  },
  {
   "cell_type": "markdown",
   "metadata": {},
   "source": [
    "Peut etre trop long, plutot voir si on pose un 'bon' gamma, quel est le meilleur lambda.\n",
    "\n",
    "Du coup, même fonction que avant pour hyperparam"
   ]
  },
  {
   "cell_type": "code",
   "execution_count": 211,
   "metadata": {},
   "outputs": [],
   "source": [
    "#gammas = np.linspace(0.00001, 0.3, num_intervals)\n",
    "lambdas = np.linspace(0.01, 20, 4)\n",
    "gamma = 0.005\n",
    "nb_fold = 20"
   ]
  },
  {
   "cell_type": "code",
   "execution_count": 212,
   "metadata": {},
   "outputs": [],
   "source": [
    "def ridge_sgd_lambda(lambdas, nb_fold, x_train, y_train, gamma, x_test, y_test):\n",
    "    accuracy_valid = np.zeros([len(lambdas), nb_fold])\n",
    "    accuracy_train = np.zeros([len(lambdas), nb_fold])\n",
    "    \n",
    "    nb_elem = math.floor(x_train.shape[0]/nb_fold)\n",
    "    \n",
    "    \n",
    "    for i, lambda_ in enumerate(lambdas):\n",
    "        print(i)\n",
    "        for k in range(nb_fold):\n",
    "            x_valid_k = x_train[k*nb_elem:(k+1)*nb_elem][:]  \n",
    "            y_valid_k = y_train[k*nb_elem:(k+1)*nb_elem]\n",
    "            \n",
    "            x_train_k = np.concatenate([x_train[0:k*nb_elem][:], x_train[(k+1)*nb_elem:][:]])\n",
    "            y_train_k = np.concatenate([y_train[0:k*nb_elem],    y_train[(k+1)*nb_elem:]   ]) \n",
    "                                        \n",
    "            w, loss_tr = ridge_SGD(y_train_k, x_train_k, w_initial, max_iters, gamma, lambda_)\n",
    "            accuracy_train[i][k] = accuracy(w, x_train_k, y_train_k)\n",
    "            accuracy_valid[i][k] = accuracy(w, x_test, y_test)\n",
    "            \n",
    "        train_sgd_mean = np.mean(accuracy_train, axis=1)\n",
    "        valid_sgd_mean = np.mean(accuracy_valid, axis=1)\n",
    "\n",
    "    return train_sgd_mean, valid_sgd_mean"
   ]
  },
  {
   "cell_type": "code",
   "execution_count": 213,
   "metadata": {},
   "outputs": [
    {
     "name": "stdout",
     "output_type": "stream",
     "text": [
      "0\n",
      "1\n",
      "2\n",
      "3\n"
     ]
    },
    {
     "ename": "KeyboardInterrupt",
     "evalue": "",
     "output_type": "error",
     "traceback": [
      "\u001b[1;31m---------------------------------------------------------------------------\u001b[0m",
      "\u001b[1;31mKeyboardInterrupt\u001b[0m                         Traceback (most recent call last)",
      "\u001b[1;32m<ipython-input-213-c7049c1eee25>\u001b[0m in \u001b[0;36m<module>\u001b[1;34m()\u001b[0m\n\u001b[1;32m----> 1\u001b[1;33m \u001b[0mvalid_r_sgd\u001b[0m\u001b[1;33m,\u001b[0m \u001b[0mtrain_r_sgd\u001b[0m \u001b[1;33m=\u001b[0m \u001b[0mridge_sgd_lambda\u001b[0m\u001b[1;33m(\u001b[0m\u001b[0mlambdas\u001b[0m\u001b[1;33m,\u001b[0m \u001b[0mnb_fold\u001b[0m\u001b[1;33m,\u001b[0m \u001b[0mx_train_no_999\u001b[0m\u001b[1;33m,\u001b[0m \u001b[0my_train_no_999\u001b[0m\u001b[1;33m,\u001b[0m \u001b[0mgamma\u001b[0m\u001b[1;33m,\u001b[0m \u001b[0mx_test\u001b[0m\u001b[1;33m,\u001b[0m \u001b[0my_test\u001b[0m\u001b[1;33m)\u001b[0m\u001b[1;33m\u001b[0m\u001b[0m\n\u001b[0m",
      "\u001b[1;32m<ipython-input-212-2c365b0528d9>\u001b[0m in \u001b[0;36mridge_sgd_lambda\u001b[1;34m(lambdas, nb_fold, x_train, y_train, gamma, x_test, y_test)\u001b[0m\n\u001b[0;32m     15\u001b[0m             \u001b[0my_train_k\u001b[0m \u001b[1;33m=\u001b[0m \u001b[0mnp\u001b[0m\u001b[1;33m.\u001b[0m\u001b[0mconcatenate\u001b[0m\u001b[1;33m(\u001b[0m\u001b[1;33m[\u001b[0m\u001b[0my_train\u001b[0m\u001b[1;33m[\u001b[0m\u001b[1;36m0\u001b[0m\u001b[1;33m:\u001b[0m\u001b[0mk\u001b[0m\u001b[1;33m*\u001b[0m\u001b[0mnb_elem\u001b[0m\u001b[1;33m]\u001b[0m\u001b[1;33m,\u001b[0m    \u001b[0my_train\u001b[0m\u001b[1;33m[\u001b[0m\u001b[1;33m(\u001b[0m\u001b[0mk\u001b[0m\u001b[1;33m+\u001b[0m\u001b[1;36m1\u001b[0m\u001b[1;33m)\u001b[0m\u001b[1;33m*\u001b[0m\u001b[0mnb_elem\u001b[0m\u001b[1;33m:\u001b[0m\u001b[1;33m]\u001b[0m   \u001b[1;33m]\u001b[0m\u001b[1;33m)\u001b[0m\u001b[1;33m\u001b[0m\u001b[0m\n\u001b[0;32m     16\u001b[0m \u001b[1;33m\u001b[0m\u001b[0m\n\u001b[1;32m---> 17\u001b[1;33m             \u001b[0mw\u001b[0m\u001b[1;33m,\u001b[0m \u001b[0mloss_tr\u001b[0m \u001b[1;33m=\u001b[0m \u001b[0mridge_SGD\u001b[0m\u001b[1;33m(\u001b[0m\u001b[0my_train_k\u001b[0m\u001b[1;33m,\u001b[0m \u001b[0mx_train_k\u001b[0m\u001b[1;33m,\u001b[0m \u001b[0mw_initial\u001b[0m\u001b[1;33m,\u001b[0m \u001b[0mmax_iters\u001b[0m\u001b[1;33m,\u001b[0m \u001b[0mgamma\u001b[0m\u001b[1;33m,\u001b[0m \u001b[0mlambda_\u001b[0m\u001b[1;33m)\u001b[0m\u001b[1;33m\u001b[0m\u001b[0m\n\u001b[0m\u001b[0;32m     18\u001b[0m             \u001b[0maccuracy_train\u001b[0m\u001b[1;33m[\u001b[0m\u001b[0mi\u001b[0m\u001b[1;33m]\u001b[0m\u001b[1;33m[\u001b[0m\u001b[0mk\u001b[0m\u001b[1;33m]\u001b[0m \u001b[1;33m=\u001b[0m \u001b[0maccuracy\u001b[0m\u001b[1;33m(\u001b[0m\u001b[0mw\u001b[0m\u001b[1;33m,\u001b[0m \u001b[0mx_train_k\u001b[0m\u001b[1;33m,\u001b[0m \u001b[0my_train_k\u001b[0m\u001b[1;33m)\u001b[0m\u001b[1;33m\u001b[0m\u001b[0m\n\u001b[0;32m     19\u001b[0m             \u001b[0maccuracy_valid\u001b[0m\u001b[1;33m[\u001b[0m\u001b[0mi\u001b[0m\u001b[1;33m]\u001b[0m\u001b[1;33m[\u001b[0m\u001b[0mk\u001b[0m\u001b[1;33m]\u001b[0m \u001b[1;33m=\u001b[0m \u001b[0maccuracy\u001b[0m\u001b[1;33m(\u001b[0m\u001b[0mw\u001b[0m\u001b[1;33m,\u001b[0m \u001b[0mx_test\u001b[0m\u001b[1;33m,\u001b[0m \u001b[0my_test\u001b[0m\u001b[1;33m)\u001b[0m\u001b[1;33m\u001b[0m\u001b[0m\n",
      "\u001b[1;32m~\\Documents\\EPFL\\Cours\\MachineLearning\\MachineLearningProject1\\implementations.py\u001b[0m in \u001b[0;36mridge_SGD\u001b[1;34m(y, tx, initial_w, max_iters, gamma, lambda_)\u001b[0m\n\u001b[0;32m     96\u001b[0m \u001b[1;33m\u001b[0m\u001b[0m\n\u001b[0;32m     97\u001b[0m     \u001b[1;32mfor\u001b[0m \u001b[0mn_iter\u001b[0m \u001b[1;32min\u001b[0m \u001b[0mrange\u001b[0m\u001b[1;33m(\u001b[0m\u001b[0mmax_iters\u001b[0m\u001b[1;33m)\u001b[0m\u001b[1;33m:\u001b[0m\u001b[1;33m\u001b[0m\u001b[0m\n\u001b[1;32m---> 98\u001b[1;33m         \u001b[1;32mfor\u001b[0m \u001b[0my_batch\u001b[0m\u001b[1;33m,\u001b[0m \u001b[0mtx_batch\u001b[0m \u001b[1;32min\u001b[0m \u001b[0mbatch_iter\u001b[0m\u001b[1;33m(\u001b[0m\u001b[0my\u001b[0m\u001b[1;33m,\u001b[0m \u001b[0mtx\u001b[0m\u001b[1;33m,\u001b[0m \u001b[0mbatch_size\u001b[0m\u001b[1;33m=\u001b[0m\u001b[0mbatch_size\u001b[0m\u001b[1;33m,\u001b[0m \u001b[0mnum_batches\u001b[0m\u001b[1;33m=\u001b[0m\u001b[1;36m1\u001b[0m\u001b[1;33m)\u001b[0m\u001b[1;33m:\u001b[0m\u001b[1;33m\u001b[0m\u001b[0m\n\u001b[0m\u001b[0;32m     99\u001b[0m             \u001b[1;31m# compute a stochastic gradient and loss\u001b[0m\u001b[1;33m\u001b[0m\u001b[1;33m\u001b[0m\u001b[0m\n\u001b[0;32m    100\u001b[0m             \u001b[0mgrad\u001b[0m\u001b[1;33m,\u001b[0m \u001b[0m_\u001b[0m \u001b[1;33m=\u001b[0m \u001b[0mcompute_gradient_ridge\u001b[0m\u001b[1;33m(\u001b[0m\u001b[0my_batch\u001b[0m\u001b[1;33m,\u001b[0m \u001b[0mtx_batch\u001b[0m\u001b[1;33m,\u001b[0m \u001b[0mw\u001b[0m\u001b[1;33m,\u001b[0m \u001b[0mlambda_\u001b[0m\u001b[1;33m)\u001b[0m\u001b[1;33m\u001b[0m\u001b[0m\n",
      "\u001b[1;32m~\\Documents\\EPFL\\Cours\\MachineLearning\\MachineLearningProject1\\other.py\u001b[0m in \u001b[0;36mbatch_iter\u001b[1;34m(y, tx, batch_size, num_batches, shuffle)\u001b[0m\n\u001b[0;32m     27\u001b[0m     \u001b[1;32mif\u001b[0m \u001b[0mshuffle\u001b[0m\u001b[1;33m:\u001b[0m\u001b[1;33m\u001b[0m\u001b[0m\n\u001b[0;32m     28\u001b[0m         \u001b[0mshuffle_indices\u001b[0m \u001b[1;33m=\u001b[0m \u001b[0mnp\u001b[0m\u001b[1;33m.\u001b[0m\u001b[0mrandom\u001b[0m\u001b[1;33m.\u001b[0m\u001b[0mpermutation\u001b[0m\u001b[1;33m(\u001b[0m\u001b[0mnp\u001b[0m\u001b[1;33m.\u001b[0m\u001b[0marange\u001b[0m\u001b[1;33m(\u001b[0m\u001b[0mdata_size\u001b[0m\u001b[1;33m)\u001b[0m\u001b[1;33m)\u001b[0m\u001b[1;33m\u001b[0m\u001b[0m\n\u001b[1;32m---> 29\u001b[1;33m         \u001b[0mshuffled_y\u001b[0m \u001b[1;33m=\u001b[0m \u001b[0my\u001b[0m\u001b[1;33m[\u001b[0m\u001b[0mshuffle_indices\u001b[0m\u001b[1;33m]\u001b[0m\u001b[1;33m\u001b[0m\u001b[0m\n\u001b[0m\u001b[0;32m     30\u001b[0m         \u001b[0mshuffled_tx\u001b[0m \u001b[1;33m=\u001b[0m \u001b[0mtx\u001b[0m\u001b[1;33m[\u001b[0m\u001b[0mshuffle_indices\u001b[0m\u001b[1;33m]\u001b[0m\u001b[1;33m\u001b[0m\u001b[0m\n\u001b[0;32m     31\u001b[0m     \u001b[1;32melse\u001b[0m\u001b[1;33m:\u001b[0m\u001b[1;33m\u001b[0m\u001b[0m\n",
      "\u001b[1;31mKeyboardInterrupt\u001b[0m: "
     ]
    }
   ],
   "source": [
    "valid_r_sgd, train_r_sgd = ridge_sgd_lambda(lambdas, nb_fold, x_train_no_999, y_train_no_999, gamma, x_test, y_test)"
   ]
  },
  {
   "cell_type": "code",
   "execution_count": 214,
   "metadata": {},
   "outputs": [],
   "source": [
    "def plot_train_test_ridge(train_sgd_mean, valid_sgd_mean, lambdas):\n",
    "    fig, ax = plt.subplots()\n",
    "    ax.plot(lambdas, train_sgd_mean, label='Training set')\n",
    "    ax.plot(lambdas, valid_sgd_mean, label = 'Testing set')\n",
    "\n",
    "    ax.set(xlabel='Lambdas', ylabel='Loss',\n",
    "           title='Lambda on accuracy (max_iter = 200)')\n",
    "    ax.grid()\n",
    "    plt.xticks(lambdas)\n",
    "    plt.ylim((0, 1))\n",
    "    \n",
    "    plt.legend()\n",
    "    fig.savefig(\"ridge_lambda_20fold_200maxiter_only999removed.png\")\n",
    "    plt.show()"
   ]
  },
  {
   "cell_type": "code",
   "execution_count": 215,
   "metadata": {},
   "outputs": [
    {
     "name": "stdout",
     "output_type": "stream",
     "text": [
      "[1.00000000e-02 6.67333333e+00 1.33366667e+01 2.00000000e+01]\n"
     ]
    }
   ],
   "source": [
    "print(lambdas)"
   ]
  },
  {
   "cell_type": "code",
   "execution_count": 216,
   "metadata": {},
   "outputs": [
    {
     "ename": "NameError",
     "evalue": "name 'train_r_sgd' is not defined",
     "output_type": "error",
     "traceback": [
      "\u001b[1;31m---------------------------------------------------------------------------\u001b[0m",
      "\u001b[1;31mNameError\u001b[0m                                 Traceback (most recent call last)",
      "\u001b[1;32m<ipython-input-216-9f30ed7197be>\u001b[0m in \u001b[0;36m<module>\u001b[1;34m()\u001b[0m\n\u001b[1;32m----> 1\u001b[1;33m \u001b[0mplot_train_test_ridge\u001b[0m\u001b[1;33m(\u001b[0m\u001b[0mtrain_r_sgd\u001b[0m\u001b[1;33m,\u001b[0m \u001b[0mvalid_r_sgd\u001b[0m\u001b[1;33m,\u001b[0m \u001b[0mlambdas\u001b[0m\u001b[1;33m)\u001b[0m\u001b[1;33m\u001b[0m\u001b[0m\n\u001b[0m",
      "\u001b[1;31mNameError\u001b[0m: name 'train_r_sgd' is not defined"
     ]
    }
   ],
   "source": [
    "plot_train_test_ridge(train_r_sgd, valid_r_sgd, lambdas)"
   ]
  },
  {
   "cell_type": "code",
   "execution_count": 198,
   "metadata": {},
   "outputs": [
    {
     "name": "stdout",
     "output_type": "stream",
     "text": [
      "2.23111111111\n",
      "0.344550989816\n"
     ]
    }
   ],
   "source": [
    "# Minimum values for ls_sgd\n",
    "ind = np.unravel_index(np.argmin(valid_r_sgd, axis=None), valid_r_sgd.shape)\n",
    "lambd = lambdas[ind]\n",
    "ls_sgd_loss = valid_r_sgd[ind]\n",
    "print(lambd)\n",
    "print(ls_sgd_loss)"
   ]
  },
  {
   "cell_type": "code",
   "execution_count": 199,
   "metadata": {},
   "outputs": [],
   "source": [
    "max_iters=200\n",
    "gamma=0.005 #0.0035\n",
    "lambda_ = 2.11 #to find\n",
    "w_r_sgd, _ = ridge_SGD(y_train_no_999, x_train_no_999, w_initial, max_iters, gamma, lambda_)"
   ]
  },
  {
   "cell_type": "markdown",
   "metadata": {},
   "source": [
    "lambda = 20 --> 0.85\n",
    "         15 --> 0.85\n",
    "         10 --> 0.87\n",
    "         5  --> 0.85"
   ]
  },
  {
   "cell_type": "code",
   "execution_count": 200,
   "metadata": {},
   "outputs": [
    {
     "name": "stdout",
     "output_type": "stream",
     "text": [
      "0.861945170862\n"
     ]
    }
   ],
   "source": [
    "accuracy_r_sgd = accuracy(w_r_sgd, x_test, y_test)\n",
    "print(accuracy_r_sgd)"
   ]
  },
  {
   "cell_type": "markdown",
   "metadata": {},
   "source": [
    "## GD Ridge regression"
   ]
  },
  {
   "cell_type": "code",
   "execution_count": null,
   "metadata": {
    "collapsed": true
   },
   "outputs": [],
   "source": [
    "def ridge_gd_hyperparam(gammas, lambdas, nb_fold, x_train, y_train):\n",
    "    loss_train = np.zeros([len(gammas), len(lambdas), nb_fold])\n",
    "    loss_valid = np.zeros([len(gammas), len(lambdas), nb_fold])\n",
    "    \n",
    "    nb_elem = math.floor(x_train.shape[0]/nb_fold)\n",
    "    \n",
    "    for i, gamma in enumerate(gammas):\n",
    "        for j, lambda_ in enumerate(lambdas):\n",
    "            for k in range(nb_fold):\n",
    "                \n",
    "                x_valid_k = x_train[k*nb_elem:(k+1)*nb_elem][:]  \n",
    "                y_valid_k = y_train[k*nb_elem:(k+1)*nb_elem]\n",
    "\n",
    "                x_train_k = np.concatenate([x_train[0:k*nb_elem][:], x_train[(k+1)*nb_elem:][:]])\n",
    "                y_train_k = np.concatenate([y_train[0:k*nb_elem],    y_train[(k+1)*nb_elem:]   ]) \n",
    "\n",
    "                w, loss_gamma = ridge_SGD(y_train_k, x_train_k, w_initial, max_iters, gamma, lambda_)\n",
    "                loss_train[i][j][k] = loss_gamma\n",
    "                loss_valid[i][j][k] = compute_loss_ridge(y_valid_k, x_valid_k, w, lambda_)\n",
    "                \n",
    "    return loss_train, loss_valid"
   ]
  },
  {
   "cell_type": "code",
   "execution_count": null,
   "metadata": {
    "collapsed": true
   },
   "outputs": [],
   "source": [
    "loss_valid_r_gd, loss_train_r_gd = ridge_gd_hyperparam(gammas, lambdas, nb_fold, x_train_no_999, y_train_no_999)"
   ]
  },
  {
   "cell_type": "code",
   "execution_count": null,
   "metadata": {
    "collapsed": true
   },
   "outputs": [],
   "source": [
    "train_gd_mean = np.mean(loss_train_r_gd, axis=2)\n",
    "valid_gd_mean = np.mean(loss_valid_r_gd, axis=2)"
   ]
  },
  {
   "cell_type": "code",
   "execution_count": null,
   "metadata": {
    "collapsed": true
   },
   "outputs": [],
   "source": [
    "# Minimum values for ls_sgd\n",
    "ind = np.unravel_index(np.argmin(valid_gd_mean, axis=None), valid_gd_mean.shape)\n",
    "learning_rate = gammas[ind[0]]\n",
    "ls_gd_loss = valid_gd_mean[ind]\n",
    "print(learning_rate)\n",
    "print(ls_gd_loss)"
   ]
  },
  {
   "cell_type": "code",
   "execution_count": null,
   "metadata": {
    "collapsed": true
   },
   "outputs": [],
   "source": []
  },
  {
   "cell_type": "markdown",
   "metadata": {},
   "source": [
    "# Pas sûre des logistic regression. Voir correction lab05\n",
    "Sinon toujours le même code et techniques que avant "
   ]
  },
  {
   "cell_type": "markdown",
   "metadata": {},
   "source": [
    "## Logistic regression\n",
    "Debugged but not sure from here: Il y aura probablement une correction du labo 5 pour améliorer / vérifier les fonctions de logistic regression"
   ]
  },
  {
   "cell_type": "code",
   "execution_count": 85,
   "metadata": {},
   "outputs": [],
   "source": [
    "y_trainLR=replace_1(y_train)\n",
    "y_testLR=replace_1(y_test)"
   ]
  },
  {
   "cell_type": "code",
   "execution_count": 95,
   "metadata": {},
   "outputs": [],
   "source": [
    "w_lr_init= np.random.rand(x_trainb.shape[1])"
   ]
  },
  {
   "cell_type": "code",
   "execution_count": 96,
   "metadata": {},
   "outputs": [],
   "source": [
    "w_lr, loss_lr = logistic_regression(y_train,x_trainb, w_lr_init,100,0.1)"
   ]
  },
  {
   "cell_type": "code",
   "execution_count": 100,
   "metadata": {},
   "outputs": [
    {
     "name": "stdout",
     "output_type": "stream",
     "text": [
      "[1. 0. 0. 0. 0. 1. 1. 1. 0. 1.] [1. 0. 0. 0. 0. 0. 1. 1. 0. 1.]\n"
     ]
    }
   ],
   "source": [
    "loss_lr_train= compute_logreg_loss(y_train[:10],x_trainb[:10][:],w_lr)\n",
    "acc_lr_train=accuracy(y_train[:10],x_trainb[:10],w_lr)"
   ]
  },
  {
   "cell_type": "code",
   "execution_count": 108,
   "metadata": {},
   "outputs": [
    {
     "name": "stdout",
     "output_type": "stream",
     "text": [
      "568238\n"
     ]
    }
   ],
   "source": [
    "print(len(y_test==0))"
   ]
  },
  {
   "cell_type": "code",
   "execution_count": 104,
   "metadata": {},
   "outputs": [
    {
     "name": "stdout",
     "output_type": "stream",
     "text": [
      "[0. 0. 0. 0. 1. 0. 0. 1. 0. 1.] [1. 1. 1. 1. 1. 1. 1. 1. 1. 1.]\n"
     ]
    }
   ],
   "source": [
    "loss_lr_test = compute_logreg_loss(y_test[:10],x_teb[:10][:],w_lr)\n",
    "acc_lr_test=accuracy(y_test[:10],x_teb[:10][:],w_lr)"
   ]
  },
  {
   "cell_type": "code",
   "execution_count": 101,
   "metadata": {},
   "outputs": [
    {
     "name": "stdout",
     "output_type": "stream",
     "text": [
      "0.5823816075669359 0.9 1.560736604121226 0.2444116725738159\n"
     ]
    }
   ],
   "source": [
    "print(loss_lr_train,acc_lr_train, loss_lr_test, acc_lr_test)"
   ]
  },
  {
   "cell_type": "markdown",
   "metadata": {},
   "source": [
    "## Regularized Logistic Regression"
   ]
  },
  {
   "cell_type": "code",
   "execution_count": null,
   "metadata": {
    "collapsed": true
   },
   "outputs": [],
   "source": []
  },
  {
   "cell_type": "markdown",
   "metadata": {},
   "source": [
    "# Prediction de chaque méthode pour Kaggle"
   ]
  },
  {
   "cell_type": "code",
   "execution_count": null,
   "metadata": {
    "collapsed": true
   },
   "outputs": [],
   "source": [
    "y_pred = predict_labels(w, x_test)"
   ]
  },
  {
   "cell_type": "code",
   "execution_count": null,
   "metadata": {
    "collapsed": true
   },
   "outputs": [],
   "source": []
  }
 ],
 "metadata": {
  "kernelspec": {
   "display_name": "Python 3",
   "language": "python",
   "name": "python3"
  },
  "language_info": {
   "codemirror_mode": {
    "name": "ipython",
    "version": 3
   },
   "file_extension": ".py",
   "mimetype": "text/x-python",
   "name": "python",
   "nbconvert_exporter": "python",
   "pygments_lexer": "ipython3",
   "version": "3.6.5"
  }
 },
 "nbformat": 4,
 "nbformat_minor": 2
}
