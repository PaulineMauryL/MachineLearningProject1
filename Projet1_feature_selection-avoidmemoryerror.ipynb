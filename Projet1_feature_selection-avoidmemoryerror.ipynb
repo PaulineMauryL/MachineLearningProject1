{
 "cells": [
  {
   "cell_type": "code",
   "execution_count": 1,
   "metadata": {
    "collapsed": true
   },
   "outputs": [],
   "source": [
    "%matplotlib inline\n",
    "import numpy as np\n",
    "import matplotlib.pyplot as plt\n",
    "%load_ext autoreload\n",
    "%autoreload 2\n",
    "np.set_printoptions(threshold=300)"
   ]
  },
  {
   "cell_type": "code",
   "execution_count": 2,
   "metadata": {
    "collapsed": true
   },
   "outputs": [],
   "source": [
    "from proj1_helpers import load_csv_data, predict_labels, create_csv_submission\n",
    "from implement import modeling\n",
    "from preprocessing import dataprocessing, split_categories\n",
    "from select_features import best_set_of_features\n",
    "from other import plot_train_test\n",
    "import math"
   ]
  },
  {
   "cell_type": "markdown",
   "metadata": {},
   "source": [
    "## Load and process data"
   ]
  },
  {
   "cell_type": "markdown",
   "metadata": {},
   "source": [
    "Load data"
   ]
  },
  {
   "cell_type": "code",
   "execution_count": 3,
   "metadata": {
    "collapsed": true
   },
   "outputs": [],
   "source": [
    "y_train, x_train, ids_train = load_csv_data('train.csv', sub_sample=False)"
   ]
  },
  {
   "cell_type": "markdown",
   "metadata": {},
   "source": [
    "Create categories"
   ]
  },
  {
   "cell_type": "code",
   "execution_count": 4,
   "metadata": {
    "collapsed": true
   },
   "outputs": [],
   "source": [
    "cat_0_tri, cat_1_tri, cat_2_tri, cat_3_tri, idx_0_tr, idx_1_tr, idx_2_tr, idx_3_tr = split_categories(x_train)"
   ]
  },
  {
   "cell_type": "markdown",
   "metadata": {},
   "source": [
    "Preprocess the data, create features"
   ]
  },
  {
   "cell_type": "markdown",
   "metadata": {},
   "source": [
    "## Find the best features"
   ]
  },
  {
   "cell_type": "code",
   "execution_count": 9,
   "metadata": {
    "collapsed": true
   },
   "outputs": [],
   "source": [
    "num_intervals_lambda = 30\n",
    "nb_fold = 5\n",
    "nb_crossvalid = 5\n",
    "min_range = -5\n",
    "max_range = 0"
   ]
  },
  {
   "cell_type": "markdown",
   "metadata": {},
   "source": [
    "## Features"
   ]
  },
  {
   "cell_type": "code",
   "execution_count": 6,
   "metadata": {
    "collapsed": true
   },
   "outputs": [],
   "source": [
    "def keep_features_number(feat_0, lamb_0, name):\n",
    "    with open(name, 'w') as f:\n",
    "        f.write(\"%s \" % name)\n",
    "        f.write(\"degree, adddegree = True, inv = True, frac = False, sqroot = True, sqrootpos = True, cbroot = True, comb = True, comb3 = False, trigo=True, expo = False, hyperb=False,combtrigo=False\")\n",
    "        for item in feat_0:\n",
    "            f.write(\"%s,\\n\" % item)\n",
    "        f.write(\"\\n\")\n",
    "        \n",
    "        f.write(\" Lambda = %5.9f \\n\" % lamb_0)"
   ]
  },
  {
   "cell_type": "code",
   "execution_count": 7,
   "metadata": {},
   "outputs": [
    {
     "name": "stdout",
     "output_type": "stream",
     "text": [
      "(99913, 17)\n",
      "(99913, 272)\n"
     ]
    }
   ],
   "source": [
    "y_train_0 = y_train[idx_0_tr]\n",
    "trx_0 = dataprocessing(cat_0_tri,3)"
   ]
  },
  {
   "cell_type": "code",
   "execution_count": null,
   "metadata": {},
   "outputs": [
    {
     "name": "stdout",
     "output_type": "stream",
     "text": [
      "\n",
      " Accuracy = 0.7883995596036433 with feat 103\n",
      "Nb of features = 0\n",
      "Lamdba = 1e-05\n",
      "\n",
      " Accuracy = 0.8070263236913222 with feat 60\n",
      "Nb of features = 1\n",
      "Lamdba = 1.4873521072935119e-05\n",
      "\n",
      " Accuracy = 0.8098388549694725 with feat 259\n",
      "Nb of features = 2\n",
      "Lamdba = 2.21221629107045e-05\n",
      "\n",
      " Accuracy = 0.8149034130717647 with feat 70\n",
      "Nb of features = 3\n",
      "Lamdba = 2.21221629107045e-05\n",
      "\n",
      " Accuracy = 0.8230807726954259 with feat 21\n",
      "Nb of features = 4\n",
      "Lamdba = 4.893900918477499e-05\n",
      "\n",
      " Accuracy = 0.8194374937443699 with feat 18\n",
      "Nb of features = 5\n",
      "Lamdba = 0.00010826367338740541\n",
      "\n",
      " Accuracy = 0.8238014212791512 with feat 122\n",
      "Nb of features = 6\n",
      "Lamdba = 0.0005298316906283713\n",
      "\n",
      " Accuracy = 0.8227604844359924 with feat 35\n",
      "Nb of features = 7\n",
      "Lamdba = 0.0001610262027560939\n",
      "\n",
      " Accuracy = 0.8246621959763788 with feat 30\n",
      "Nb of features = 8\n",
      "Lamdba = 0.0001610262027560939\n"
     ]
    }
   ],
   "source": [
    "features_0, lambdas_0 = best_set_of_features(trx_0,y_train_0, num_intervals_lambda, nb_fold, nb_crossvalid, min_range, max_range)\n",
    "lamb_0 = lambdas_0[-3]\n",
    "feat_0 = features_0[:-1]\n",
    "print(feat_0)"
   ]
  },
  {
   "cell_type": "code",
   "execution_count": null,
   "metadata": {
    "collapsed": true
   },
   "outputs": [],
   "source": [
    "keep_features_number(feat_0, lamb_0, \"categorie_0.txt\")"
   ]
  },
  {
   "cell_type": "code",
   "execution_count": null,
   "metadata": {
    "collapsed": true
   },
   "outputs": [],
   "source": [
    "del trx_0"
   ]
  },
  {
   "cell_type": "code",
   "execution_count": null,
   "metadata": {
    "collapsed": true
   },
   "outputs": [],
   "source": [
    "y_train_1 = y_train[idx_1_tr]\n",
    "trx_1 = dataprocessing(cat_1_tri,3)"
   ]
  },
  {
   "cell_type": "code",
   "execution_count": null,
   "metadata": {
    "collapsed": true
   },
   "outputs": [],
   "source": [
    "features_1, lambdas_1 = best_set_of_features(trx_1,y_train_1, num_intervals_lambda, nb_fold, nb_crossvalid, min_range, max_range)\n",
    "lamb_1 = lambdas_1[-3]\n",
    "feat_1 = features_1[:-1]\n",
    "print(feat_1)\n",
    "\n",
    "keep_features_number(feat_1, lamb_1, \"categorie_1.txt\")"
   ]
  },
  {
   "cell_type": "code",
   "execution_count": null,
   "metadata": {
    "collapsed": true
   },
   "outputs": [],
   "source": [
    "del trx_1"
   ]
  },
  {
   "cell_type": "code",
   "execution_count": null,
   "metadata": {
    "collapsed": true
   },
   "outputs": [],
   "source": [
    "y_train_2 = y_train[idx_2_tr]\n",
    "trx_2 = dataprocessing(cat_2_tri,3)"
   ]
  },
  {
   "cell_type": "code",
   "execution_count": null,
   "metadata": {
    "collapsed": true
   },
   "outputs": [],
   "source": [
    "features_2, lambdas_2 = best_set_of_features(trx_2,y_train_2, num_intervals_lambda, nb_fold, nb_crossvalid, min_range, max_range)\n",
    "lamb_2 = lambdas_2[-3]\n",
    "feat_2 = features_2[:-1]\n",
    "print(feat_2)\n",
    "\n",
    "keep_features_number(feat_2, lamb_2, \"categorie_2.txt\")"
   ]
  },
  {
   "cell_type": "code",
   "execution_count": null,
   "metadata": {
    "collapsed": true
   },
   "outputs": [],
   "source": [
    "del trx_2"
   ]
  },
  {
   "cell_type": "code",
   "execution_count": null,
   "metadata": {
    "collapsed": true
   },
   "outputs": [],
   "source": [
    "y_train_3 = y_train[idx_3_tr]\n",
    "trx_3 = dataprocessing(cat_3_tri,3)"
   ]
  },
  {
   "cell_type": "code",
   "execution_count": null,
   "metadata": {
    "collapsed": true
   },
   "outputs": [],
   "source": [
    "features_3, lambdas_3 = best_set_of_features(trx_3,y_train_3, num_intervals_lambda, nb_fold, nb_crossvalid, min_range, max_range)\n",
    "lamb_3 = lambdas_3[-3]\n",
    "feat_3 = features_3[:-1]\n",
    "print(feat_3)\n",
    "\n",
    "keep_features_number(feat_3, lamb_3, \"categorie_3.txt\")"
   ]
  },
  {
   "cell_type": "code",
   "execution_count": null,
   "metadata": {
    "collapsed": true
   },
   "outputs": [],
   "source": [
    "del trx_3"
   ]
  },
  {
   "cell_type": "code",
   "execution_count": null,
   "metadata": {
    "collapsed": true
   },
   "outputs": [],
   "source": []
  }
 ],
 "metadata": {
  "kernelspec": {
   "display_name": "Python 3",
   "language": "python",
   "name": "python3"
  },
  "language_info": {
   "codemirror_mode": {
    "name": "ipython",
    "version": 3
   },
   "file_extension": ".py",
   "mimetype": "text/x-python",
   "name": "python",
   "nbconvert_exporter": "python",
   "pygments_lexer": "ipython3",
   "version": "3.6.5"
  }
 },
 "nbformat": 4,
 "nbformat_minor": 2
}
