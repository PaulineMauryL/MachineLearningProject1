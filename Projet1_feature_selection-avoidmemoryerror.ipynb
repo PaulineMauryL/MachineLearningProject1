{
 "cells": [
  {
   "cell_type": "code",
   "execution_count": 8,
   "metadata": {},
   "outputs": [
    {
     "name": "stdout",
     "output_type": "stream",
     "text": [
      "The autoreload extension is already loaded. To reload it, use:\n",
      "  %reload_ext autoreload\n"
     ]
    }
   ],
   "source": [
    "%matplotlib inline\n",
    "import numpy as np\n",
    "import matplotlib.pyplot as plt\n",
    "%load_ext autoreload\n",
    "%autoreload 2\n",
    "np.set_printoptions(threshold=300)"
   ]
  },
  {
   "cell_type": "code",
   "execution_count": 9,
   "metadata": {
    "collapsed": true
   },
   "outputs": [],
   "source": [
    "from proj1_helpers import load_csv_data, predict_labels, create_csv_submission\n",
    "from implement import modeling\n",
    "from preprocessing import dataprocessing, split_categories\n",
    "from select_features import best_set_of_features\n",
    "from other import plot_train_test\n",
    "import math"
   ]
  },
  {
   "cell_type": "markdown",
   "metadata": {},
   "source": [
    "## Load and process data"
   ]
  },
  {
   "cell_type": "markdown",
   "metadata": {},
   "source": [
    "Load data"
   ]
  },
  {
   "cell_type": "code",
   "execution_count": 10,
   "metadata": {
    "collapsed": true
   },
   "outputs": [],
   "source": [
    "y_train, x_train, ids_train = load_csv_data('train.csv', sub_sample=False)"
   ]
  },
  {
   "cell_type": "markdown",
   "metadata": {},
   "source": [
    "Create categories"
   ]
  },
  {
   "cell_type": "code",
   "execution_count": 11,
   "metadata": {
    "collapsed": true
   },
   "outputs": [],
   "source": [
    "cat_0_tri, cat_1_tri, cat_2_tri, cat_3_tri, idx_0_tr, idx_1_tr, idx_2_tr, idx_3_tr = split_categories(x_train)"
   ]
  },
  {
   "cell_type": "markdown",
   "metadata": {},
   "source": [
    "Preprocess the data, create features"
   ]
  },
  {
   "cell_type": "markdown",
   "metadata": {},
   "source": [
    "## Find the best features"
   ]
  },
  {
   "cell_type": "code",
   "execution_count": 12,
   "metadata": {
    "collapsed": true
   },
   "outputs": [],
   "source": [
    "num_intervals_lambda = 30\n",
    "nb_fold = 5\n",
    "nb_crossvalid = 5\n",
    "min_range = -20\n",
    "max_range = 0"
   ]
  },
  {
   "cell_type": "markdown",
   "metadata": {},
   "source": [
    "## Features"
   ]
  },
  {
   "cell_type": "code",
   "execution_count": null,
   "metadata": {
    "collapsed": true
   },
   "outputs": [],
   "source": [
    "def keep_features_number(feat_0, lamb_0, name):\n",
    "    with open(name, 'w') as f:\n",
    "        f.write(\"\\n Cat 0\")\n",
    "        for item in feat_0:\n",
    "            f.write(\"%s\\n\" % item)\n",
    "            f.write(\",\")\n",
    "            \n",
    "        f.write(\"\\n\")\n",
    "        \n",
    "        f.write(\" %5.9f \\n\" % lamb_0)"
   ]
  },
  {
   "cell_type": "code",
   "execution_count": null,
   "metadata": {
    "collapsed": true
   },
   "outputs": [],
   "source": [
    "y_train_0 = y_train[idx_0_tr]\n",
    "trx_0 = dataprocessing(cat_0_tri,3)\n",
    "features_0, lambdas_0 = best_set_of_features(trx_0,y_train_0, num_intervals_lambda, nb_fold, nb_crossvalid, min_range, max_range)\n",
    "lamb_0 = lambdas_0[-3]\n",
    "feat_0 = features_0[:-1]\n",
    "print(feat_0)\n",
    "\n",
    "keep_features_number(feat_0, lamb_0, \"categorie_0\")"
   ]
  },
  {
   "cell_type": "code",
   "execution_count": null,
   "metadata": {
    "collapsed": true
   },
   "outputs": [],
   "source": [
    "y_train_1 = y_train[idx_1_tr]\n",
    "trx_1 = dataprocessing(cat_1_tri,3)\n",
    "features_1, lambdas_1 = best_set_of_features(trx_1,y_train_1, num_intervals_lambda, nb_fold, nb_crossvalid, min_range, max_range)\n",
    "lamb_1 = lambdas_1[-3]\n",
    "feat_1 = features_1[:-1]\n",
    "print(feat_1)\n",
    "\n",
    "keep_features_number(feat_1, lamb_1, \"categorie_1\")"
   ]
  },
  {
   "cell_type": "code",
   "execution_count": null,
   "metadata": {
    "collapsed": true
   },
   "outputs": [],
   "source": [
    "y_train_2 = y_train[idx_2_tr]\n",
    "trx_2 = dataprocessing(cat_2_tri,3)\n",
    "features_2, lambdas_2 = best_set_of_features(trx_2,y_train_2, num_intervals_lambda, nb_fold, nb_crossvalid, min_range, max_range)\n",
    "lamb_2 = lambdas_2[-3]\n",
    "feat_2 = features_2[:-1]\n",
    "print(feat_2)\n",
    "\n",
    "keep_features_number(feat_2, lamb_2, \"categorie_2\")"
   ]
  },
  {
   "cell_type": "code",
   "execution_count": null,
   "metadata": {},
   "outputs": [],
   "source": [
    "y_train_3 = y_train[idx_3_tr]\n",
    "trx_3 = dataprocessing(cat_3_tri,3)\n",
    "features_3, lambdas_3 = best_set_of_features(trx_3,y_train_3, num_intervals_lambda, nb_fold, nb_crossvalid, min_range, max_range)\n",
    "lamb_3 = lambdas_3[-3]\n",
    "feat_3 = features_3[:-1]\n",
    "print(feat_3)\n",
    "\n",
    "keep_features_number(feat_3, lamb_3, \"categorie_3\")"
   ]
  },
  {
   "cell_type": "code",
   "execution_count": null,
   "metadata": {
    "collapsed": true
   },
   "outputs": [],
   "source": []
  }
 ],
 "metadata": {
  "kernelspec": {
   "display_name": "Python 3",
   "language": "python",
   "name": "python3"
  },
  "language_info": {
   "codemirror_mode": {
    "name": "ipython",
    "version": 3
   },
   "file_extension": ".py",
   "mimetype": "text/x-python",
   "name": "python",
   "nbconvert_exporter": "python",
   "pygments_lexer": "ipython3",
   "version": "3.6.5"
  }
 },
 "nbformat": 4,
 "nbformat_minor": 2
}
