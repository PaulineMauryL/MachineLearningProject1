{
 "cells": [
  {
   "cell_type": "code",
   "execution_count": 1,
   "metadata": {},
   "outputs": [],
   "source": [
    "%matplotlib inline\n",
    "import numpy as np\n",
    "import matplotlib.pyplot as plt\n",
    "%load_ext autoreload\n",
    "%autoreload 2\n",
    "np.set_printoptions(threshold=300)"
   ]
  },
  {
   "cell_type": "code",
   "execution_count": 2,
   "metadata": {
    "collapsed": true
   },
   "outputs": [],
   "source": [
    "from proj1_helpers import load_csv_data, predict_labels, create_csv_submission\n",
    "from implement import modeling\n",
    "from preprocessing import dataprocessing, split_categories\n",
    "from select_features import best_set_of_features\n",
    "from other import plot_train_test\n",
    "import math"
   ]
  },
  {
   "cell_type": "markdown",
   "metadata": {},
   "source": [
    "## Load and process data"
   ]
  },
  {
   "cell_type": "markdown",
   "metadata": {},
   "source": [
    "Load data"
   ]
  },
  {
   "cell_type": "code",
   "execution_count": 3,
   "metadata": {
    "collapsed": true
   },
   "outputs": [],
   "source": [
    "y_train, x_train, ids_train = load_csv_data('train.csv', sub_sample=False)\n",
    "_,      x_test,   ids_test  = load_csv_data('test.csv',  sub_sample=False)"
   ]
  },
  {
   "cell_type": "markdown",
   "metadata": {},
   "source": [
    "Create categories"
   ]
  },
  {
   "cell_type": "code",
   "execution_count": 4,
   "metadata": {
    "collapsed": true
   },
   "outputs": [],
   "source": [
    "cat_0_tri, cat_1_tri, cat_2_tri, cat_3_tri, idx_0_tr, idx_1_tr, idx_2_tr, idx_3_tr = split_categories(x_train)\n",
    "cat_0_tei, cat_1_tei, cat_2_tei, cat_3_tei, idx_0_te, idx_1_te, idx_2_te, idx_3_te = split_categories(x_test)\n",
    "\n",
    "y_train_0 = y_train[idx_0_tr]\n",
    "y_train_1 = y_train[idx_1_tr] \n",
    "y_train_2 = y_train[idx_2_tr]\n",
    "y_train_3 = y_train[idx_3_tr]"
   ]
  },
  {
   "cell_type": "markdown",
   "metadata": {},
   "source": [
    "Preprocess the data, create features"
   ]
  },
  {
   "cell_type": "code",
   "execution_count": 10,
   "metadata": {},
   "outputs": [],
   "source": [
    "trx_0, tex_0 = dataprocessing(cat_0_tri, cat_0_tei, degree = 5, adddegree = True, inv = True, frac = False, sqroot = True, sqrootpos = True, cbroot = True, comb = True, comb3 = False, trigo=True, expo = False, hyperb=False,combtrigo=False)"
   ]
  },
  {
   "cell_type": "code",
   "execution_count": 11,
   "metadata": {},
   "outputs": [],
   "source": [
    "trx_1, tex_1= dataprocessing(cat_1_tri, cat_1_tei, degree = 5, adddegree = True, inv = True, frac = False, sqroot = True, sqrootpos = True, cbroot = True, comb = True, comb3 = False, trigo=True, expo = False, hyperb=False,combtrigo=False)"
   ]
  },
  {
   "cell_type": "code",
   "execution_count": 12,
   "metadata": {},
   "outputs": [],
   "source": [
    "trx_2, tex_2= dataprocessing(cat_2_tri, cat_2_tei, degree = 5, adddegree = True, inv = True, frac = False, sqroot = True, sqrootpos = True, cbroot = True, comb = True, comb3 = False, trigo=True, expo = False, hyperb=False,combtrigo=False)"
   ]
  },
  {
   "cell_type": "code",
   "execution_count": 13,
   "metadata": {},
   "outputs": [],
   "source": [
    "trx_3, tex_3= dataprocessing(cat_3_tri, cat_3_tei, degree = 5, adddegree = True, inv = True, frac = False, sqroot = True, sqrootpos = True, cbroot = True, comb = True, comb3 = False, trigo=True, expo = False, hyperb=False,combtrigo=False)"
   ]
  },
  {
   "cell_type": "markdown",
   "metadata": {},
   "source": [
    "## Best features selection"
   ]
  },
  {
   "cell_type": "code",
   "execution_count": 15,
   "metadata": {
    "collapsed": true
   },
   "outputs": [],
   "source": [
    "num_intervals_lambda = 30\n",
    "nb_fold = 5\n",
    "nb_crossvalid = 5\n",
    "min_range = -5\n",
    "max_range = 0"
   ]
  },
  {
   "cell_type": "code",
   "execution_count": null,
   "metadata": {},
   "outputs": [
    {
     "name": "stdout",
     "output_type": "stream",
     "text": [
      "ok\n"
     ]
    }
   ],
   "source": [
    "features_0, lambdas_0, accuracies_0 = best_set_of_features(trx_0,y_train_0, num_intervals_lambda, nb_fold, nb_crossvalid, min_range, max_range)"
   ]
  },
  {
   "cell_type": "code",
   "execution_count": null,
   "metadata": {},
   "outputs": [],
   "source": [
    "features_1, lambdas_1, accuracies_1 = best_set_of_features(trx_1,y_train_1, num_intervals_lambda, nb_fold, nb_crossvalid, min_range, max_range)"
   ]
  },
  {
   "cell_type": "code",
   "execution_count": null,
   "metadata": {},
   "outputs": [],
   "source": [
    "features_2, lambdas_2, accuracies_2 = best_set_of_features(trx_2,y_train_2, num_intervals_lambda, nb_fold, nb_crossvalid, min_range, max_range)"
   ]
  },
  {
   "cell_type": "code",
   "execution_count": null,
   "metadata": {},
   "outputs": [],
   "source": [
    "features_3, lambdas_3, accuracies_3 = best_set_of_features(trx_3,y_train_3, num_intervals_lambda, nb_fold, nb_crossvalid, min_range, max_range)"
   ]
  },
  {
   "cell_type": "code",
   "execution_count": null,
   "metadata": {
    "collapsed": true
   },
   "outputs": [],
   "source": [
    "lamb_0 = lambdas_0[-3]\n",
    "lamb_1 = lambdas_1[-3]\n",
    "lamb_2 = lambdas_2[-3]\n",
    "lamb_3 = lambdas_3[-3]"
   ]
  },
  {
   "cell_type": "code",
   "execution_count": null,
   "metadata": {
    "collapsed": true
   },
   "outputs": [],
   "source": [
    "feat_0 = features_0[:-1]\n",
    "feat_1 = features_1[:-1]\n",
    "feat_2 = features_2[:-1]\n",
    "feat_3 = features_3[:-1]"
   ]
  },
  {
   "cell_type": "code",
   "execution_count": null,
   "metadata": {
    "collapsed": true
   },
   "outputs": [],
   "source": [
    "accuracy_0 = accuracies_0[:-3]\n",
    "accuracy_1 = accuracies_1[:-3]\n",
    "accuracy_2 = accuracies_2[:-3]\n",
    "accuracy_3 = accuracies_3[:-3]"
   ]
  },
  {
   "cell_type": "code",
   "execution_count": null,
   "metadata": {
    "collapsed": true
   },
   "outputs": [],
   "source": [
    "trx_fast_0 = trx_0[:,feat_0]\n",
    "trx_fast_1 = trx_1[:,feat_1]\n",
    "trx_fast_2 = trx_2[:,feat_2]\n",
    "trx_fast_3 = trx_3[:,feat_3]\n",
    "\n",
    "tex_fast_0 = tex_0[:,feat_0]\n",
    "tex_fast_1 = tex_1[:,feat_1]\n",
    "tex_fast_2 = tex_2[:,feat_2]\n",
    "tex_fast_3 = tex_3[:,feat_3]"
   ]
  },
  {
   "cell_type": "code",
   "execution_count": null,
   "metadata": {},
   "outputs": [],
   "source": [
    "print(feat_0,\"\\n\",feat_1,\"\\n\",feat_2,\"\\n\",feat_3)"
   ]
  },
  {
   "cell_type": "markdown",
   "metadata": {},
   "source": [
    "## Keep it for report"
   ]
  },
  {
   "cell_type": "code",
   "execution_count": null,
   "metadata": {
    "collapsed": true
   },
   "outputs": [],
   "source": [
    "def keep_features_number(feat_0, lamb_0, accuracy_0, name):\n",
    "    with open(name, 'w') as f:\n",
    "        f.write(\"%s \" % name)\n",
    "        f.write(\"For report all simple ones\")\n",
    "        f.write(\"degree = 5, adddegree = True, inv = True, frac = False, sqroot = True, sqrootpos = True, cbroot = True, comb = True, comb3 = False, trigo=True, expo = False, hyperb=False,combtrigo=False\")\n",
    "        for item in feat_0:\n",
    "            f.write(\"%s,\\n\" % item)\n",
    "        f.write(\"\\n\")\n",
    "        \n",
    "        f.write(\" Lambda = %5.9f \\n\" % lamb_0)\n",
    "        f.write(\" Accuracy = %5.9f \\n\" % accuracy_0)"
   ]
  },
  {
   "cell_type": "code",
   "execution_count": null,
   "metadata": {
    "collapsed": true
   },
   "outputs": [],
   "source": [
    "keep_features_number(feat_0, lamb_0, accuracy_0, \"categorie_0_for_report.txt\")"
   ]
  },
  {
   "cell_type": "code",
   "execution_count": null,
   "metadata": {
    "collapsed": true
   },
   "outputs": [],
   "source": [
    "keep_features_number(feat_1, lamb_1, accuracy_1, \"categorie_1_for_report.txt\")"
   ]
  },
  {
   "cell_type": "code",
   "execution_count": null,
   "metadata": {
    "collapsed": true
   },
   "outputs": [],
   "source": [
    "keep_features_number(feat_2, lamb_2, accuracy_2, \"categorie_2_for_report.txt\")"
   ]
  },
  {
   "cell_type": "code",
   "execution_count": null,
   "metadata": {
    "collapsed": true
   },
   "outputs": [],
   "source": [
    "keep_features_number(feat_3, lamb_3, accuracy_3, \"categorie_3_for_report.txt\")"
   ]
  },
  {
   "cell_type": "markdown",
   "metadata": {},
   "source": [
    "## Find w with selected x"
   ]
  },
  {
   "cell_type": "code",
   "execution_count": 39,
   "metadata": {
    "collapsed": true
   },
   "outputs": [],
   "source": [
    "w_best_0, _ = ridge_regression(y_train_0, trx_fast_0, lamb_0)\n",
    "w_best_1, _ = ridge_regression(y_train_1, trx_fast_1, lamb_1)\n",
    "w_best_2, _ = ridge_regression(y_train_2, trx_fast_2, lamb_2)\n",
    "w_best_3, _ = ridge_regression(y_train_3, trx_fast_3, lamb_3)"
   ]
  },
  {
   "cell_type": "markdown",
   "metadata": {},
   "source": [
    "## Prediction with the best model"
   ]
  },
  {
   "cell_type": "markdown",
   "metadata": {},
   "source": [
    "Create prediction for each category"
   ]
  },
  {
   "cell_type": "code",
   "execution_count": 40,
   "metadata": {
    "collapsed": true
   },
   "outputs": [],
   "source": [
    "y_0_te = predict_labels(w_best_0,tex_fast_0)\n",
    "y_1_te = predict_labels(w_best_1,tex_fast_1)\n",
    "y_2_te = predict_labels(w_best_2,tex_fast_2)\n",
    "y_3_te = predict_labels(w_best_3,tex_fast_3)"
   ]
  },
  {
   "cell_type": "markdown",
   "metadata": {},
   "source": [
    "Reconstruct y in order"
   ]
  },
  {
   "cell_type": "code",
   "execution_count": 41,
   "metadata": {
    "collapsed": true
   },
   "outputs": [],
   "source": [
    "order_tab = np.concatenate((idx_0_te, idx_1_te, idx_2_te, idx_3_te))\n",
    "order_idx = np.argsort(order_tab, axis=0)\n",
    "y_unordered = np.concatenate((y_0_te, y_1_te, y_2_te, y_3_te))\n",
    "y_pred = y_unordered[order_idx]"
   ]
  },
  {
   "cell_type": "markdown",
   "metadata": {},
   "source": [
    "Create submission"
   ]
  },
  {
   "cell_type": "code",
   "execution_count": 42,
   "metadata": {
    "collapsed": true
   },
   "outputs": [],
   "source": [
    "create_csv_submission(ids_test, y_pred, \"submission.csv\")"
   ]
  },
  {
   "cell_type": "code",
   "execution_count": 43,
   "metadata": {
    "collapsed": true
   },
   "outputs": [],
   "source": [
    "def keep_features_number(feat_0, feat_1, feat_2, feat_3):\n",
    "    with open('degree_9_features', 'w') as f:\n",
    "        f.write(\"\\n Cat 0\")\n",
    "        for item in feat_0:\n",
    "            f.write(\"%s\\n\" % item)\n",
    "            f.write(\",\")\n",
    "            \n",
    "        f.write(\"\\n Cat 1\")\n",
    "        for item in feat_1:\n",
    "            f.write(\"%s\\n\" % item)\n",
    "            f.write(\",\")\n",
    "            \n",
    "        f.write(\"\\n Cat 2\")\n",
    "        for item in feat_2:\n",
    "            f.write(\"%s\\n\" % item)\n",
    "            f.write(\",\")\n",
    "            \n",
    "        f.write(\"\\n Cat 3\")\n",
    "        for item in feat_3:\n",
    "            f.write(\"%s\\n\" % item)\n",
    "            f.write(\",\")"
   ]
  },
  {
   "cell_type": "code",
   "execution_count": null,
   "metadata": {
    "collapsed": true
   },
   "outputs": [],
   "source": []
  }
 ],
 "metadata": {
  "kernelspec": {
   "display_name": "Python 3",
   "language": "python",
   "name": "python3"
  },
  "language_info": {
   "codemirror_mode": {
    "name": "ipython",
    "version": 3
   },
   "file_extension": ".py",
   "mimetype": "text/x-python",
   "name": "python",
   "nbconvert_exporter": "python",
   "pygments_lexer": "ipython3",
   "version": "3.6.5"
  }
 },
 "nbformat": 4,
 "nbformat_minor": 2
}
