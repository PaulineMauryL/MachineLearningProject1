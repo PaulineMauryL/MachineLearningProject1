{
 "cells": [
  {
   "cell_type": "code",
   "execution_count": 42,
   "metadata": {},
   "outputs": [
    {
     "name": "stdout",
     "output_type": "stream",
     "text": [
      "The autoreload extension is already loaded. To reload it, use:\n",
      "  %reload_ext autoreload\n"
     ]
    }
   ],
   "source": [
    "#libraries\n",
    "\n",
    "import numpy as np\n",
    "from preprocessing import build_lin_com3, build_lin_com, build_sqrt, build_lin_com_deg, build_poly, build_all_deg_3, build_hyperb\n",
    "from preprocessing import build_data\n",
    "#Useful tools\n",
    "%matplotlib inline\n",
    "%load_ext autoreload\n",
    "%autoreload 2"
   ]
  },
  {
   "cell_type": "code",
   "execution_count": 56,
   "metadata": {},
   "outputs": [
    {
     "data": {
      "text/plain": [
       "array([[1., 2., 3., 4.],\n",
       "       [1., 2., 3., 4.],\n",
       "       [1., 2., 3., 4.],\n",
       "       [1., 2., 3., 4.],\n",
       "       [1., 2., 3., 4.],\n",
       "       [1., 2., 3., 4.],\n",
       "       [1., 2., 3., 4.]])"
      ]
     },
     "execution_count": 56,
     "metadata": {},
     "output_type": "execute_result"
    }
   ],
   "source": [
    "#Generation of a data set (in order to check our fonctions)\n",
    "\n",
    "N = 7 #nb of datas\n",
    "M = 4 #nb of features\n",
    "\n",
    "tx = np.zeros((N,M))\n",
    "\n",
    "for k in range(N):\n",
    "    tx[k] = [s+1 for s in range(M)]\n",
    "    \n",
    "tx"
   ]
  },
  {
   "cell_type": "code",
   "execution_count": 4,
   "metadata": {},
   "outputs": [
    {
     "name": "stdout",
     "output_type": "stream",
     "text": [
      "[[6.]\n",
      " [6.]\n",
      " [6.]\n",
      " [6.]\n",
      " [6.]\n",
      " [6.]\n",
      " [6.]]\n"
     ]
    }
   ],
   "source": [
    "###############################################################################\n",
    "#=============================================================================\n",
    "#============ TEST OF BUILD LIN COM3 ========================================\n",
    "#==========================================================================\n",
    "#########################################################################3333\n",
    "\n",
    "t2 = build_lin_com(tx)\n",
    "\n",
    "t3 = build_lin_com3(tx)\n",
    "\n",
    "print(t3)"
   ]
  },
  {
   "cell_type": "code",
   "execution_count": 6,
   "metadata": {},
   "outputs": [
    {
     "data": {
      "text/plain": [
       "array([[ 2.,  3.,  4., 12.,  9., 18.],\n",
       "       [ 2.,  3.,  4., 12.,  9., 18.],\n",
       "       [ 2.,  3.,  4., 12.,  9., 18.],\n",
       "       [ 2.,  3.,  4., 12.,  9., 18.],\n",
       "       [ 2.,  3.,  4., 12.,  9., 18.],\n",
       "       [ 2.,  3.,  4., 12.,  9., 18.],\n",
       "       [ 2.,  3.,  4., 12.,  9., 18.]])"
      ]
     },
     "execution_count": 6,
     "metadata": {},
     "output_type": "execute_result"
    }
   ],
   "source": [
    "###############################################################################\n",
    "#=============================================================================\n",
    "#============ TEST OF BUILD LIN COM DEG  ========================================\n",
    "#==========================================================================\n",
    "#########################################################################3333\n",
    "\n",
    "t4 = build_lin_com_deg(tx,2)\n",
    "\n",
    "t4"
   ]
  },
  {
   "cell_type": "code",
   "execution_count": 7,
   "metadata": {},
   "outputs": [
    {
     "data": {
      "text/plain": [
       "array([[ 6.,  2.,  3.,  4., 12.,  9., 18.],\n",
       "       [ 6.,  2.,  3.,  4., 12.,  9., 18.],\n",
       "       [ 6.,  2.,  3.,  4., 12.,  9., 18.],\n",
       "       [ 6.,  2.,  3.,  4., 12.,  9., 18.],\n",
       "       [ 6.,  2.,  3.,  4., 12.,  9., 18.],\n",
       "       [ 6.,  2.,  3.,  4., 12.,  9., 18.],\n",
       "       [ 6.,  2.,  3.,  4., 12.,  9., 18.]])"
      ]
     },
     "execution_count": 7,
     "metadata": {},
     "output_type": "execute_result"
    }
   ],
   "source": [
    "###############################################################################\n",
    "#=============================================================================\n",
    "#============ TEST OF BUILD ALL DEG 3  ========================================\n",
    "#==========================================================================\n",
    "#########################################################################3333\n",
    "\n",
    "\n",
    "t4 = build_all_deg_3(tx)\n",
    "\n",
    "t4"
   ]
  },
  {
   "cell_type": "code",
   "execution_count": 29,
   "metadata": {},
   "outputs": [],
   "source": [
    "#test for indices\n",
    "\n",
    "n= 5\n",
    "for i in np.arange(n-2):\n",
    "    bubu = 0\n",
    "    #col = tx[:,i]\n",
    "    #print(\"i+1 = \", i+1, \"n = \", n) #Note : the order matters\n",
    "    #print(tx[:,i+1:n])\n",
    "    #out = np.c_[out, to_add]\n",
    "    \n",
    "          \n",
    "          \n",
    "#for i in np.arange(n-2):\n",
    "#    col = tx[:,i]\n",
    "#    to_add = build_lin_com2( tx[:,i+1:n-1] ) * col[:, np.newaxis] #Note : the order matters\n",
    "#    out = np.c_[out, to_add]"
   ]
  },
  {
   "cell_type": "code",
   "execution_count": 30,
   "metadata": {},
   "outputs": [
    {
     "data": {
      "text/plain": [
       "array([[ 1.,  4.,  9., 16., 25.],\n",
       "       [ 1.,  4.,  9., 16., 25.],\n",
       "       [ 1.,  4.,  9., 16., 25.],\n",
       "       [ 1.,  4.,  9., 16., 25.],\n",
       "       [ 1.,  4.,  9., 16., 25.],\n",
       "       [ 1.,  4.,  9., 16., 25.],\n",
       "       [ 1.,  4.,  9., 16., 25.]])"
      ]
     },
     "execution_count": 30,
     "metadata": {},
     "output_type": "execute_result"
    }
   ],
   "source": [
    "tx\n",
    "x = tx[:,0]\n",
    "y = 2*x\n",
    "tx*y[:,np.newaxis]\n",
    "\n",
    "tx**2"
   ]
  },
  {
   "cell_type": "code",
   "execution_count": 74,
   "metadata": {},
   "outputs": [
    {
     "data": {
      "text/plain": [
       "array([[  1.,   4.,   9.,  16.,  25.,  18.,  32.,  50.,  48.,  75., 100.],\n",
       "       [  1.,   4.,   9.,  16.,  25.,  18.,  32.,  50.,  48.,  75., 100.],\n",
       "       [  1.,   4.,   9.,  16.,  25.,  18.,  32.,  50.,  48.,  75., 100.],\n",
       "       [  1.,   4.,   9.,  16.,  25.,  18.,  32.,  50.,  48.,  75., 100.],\n",
       "       [  1.,   4.,   9.,  16.,  25.,  18.,  32.,  50.,  48.,  75., 100.],\n",
       "       [  1.,   4.,   9.,  16.,  25.,  18.,  32.,  50.,  48.,  75., 100.],\n",
       "       [  1.,   4.,   9.,  16.,  25.,  18.,  32.,  50.,  48.,  75., 100.]])"
      ]
     },
     "execution_count": 74,
     "metadata": {},
     "output_type": "execute_result"
    }
   ],
   "source": [
    "deg = 2\n",
    "\n",
    "n = tx.shape[1]\n",
    "out = np.ones((tx.shape[0],1))\n",
    "#print(out)\n",
    "\n",
    "for i in np.arange(n-2):\n",
    "    col = tx[:,i]\n",
    "    pol_deg = build_poly(tx[:,i+1:n],deg)\n",
    "    to_add = pol_deg*col[:, np.newaxis]\n",
    "    out = np.c_[out, to_add]\n",
    "\n",
    "last = tx[:,tx.shape[1]-1]**deg * tx[:,tx.shape[1]-2]\n",
    "out = np.c_[out,last]\n",
    "out"
   ]
  },
  {
   "cell_type": "code",
   "execution_count": 23,
   "metadata": {},
   "outputs": [
    {
     "data": {
      "text/plain": [
       "array([[1.54308063, 3.76219569],\n",
       "       [1.54308063, 3.76219569],\n",
       "       [1.54308063, 3.76219569],\n",
       "       [1.54308063, 3.76219569],\n",
       "       [1.54308063, 3.76219569],\n",
       "       [1.54308063, 3.76219569],\n",
       "       [1.54308063, 3.76219569]])"
      ]
     },
     "execution_count": 23,
     "metadata": {},
     "output_type": "execute_result"
    }
   ],
   "source": [
    "tx\n",
    "ty = tx\n",
    "np.cosh(ty)"
   ]
  },
  {
   "cell_type": "code",
   "execution_count": 57,
   "metadata": {},
   "outputs": [
    {
     "data": {
      "text/plain": [
       "array([[ 6.,  8., 12., 24.,  2.,  3.,  4.,  4., 12., 16.,  9., 18., 36.,\n",
       "        16., 32., 48.],\n",
       "       [ 6.,  8., 12., 24.,  2.,  3.,  4.,  4., 12., 16.,  9., 18., 36.,\n",
       "        16., 32., 48.],\n",
       "       [ 6.,  8., 12., 24.,  2.,  3.,  4.,  4., 12., 16.,  9., 18., 36.,\n",
       "        16., 32., 48.],\n",
       "       [ 6.,  8., 12., 24.,  2.,  3.,  4.,  4., 12., 16.,  9., 18., 36.,\n",
       "        16., 32., 48.],\n",
       "       [ 6.,  8., 12., 24.,  2.,  3.,  4.,  4., 12., 16.,  9., 18., 36.,\n",
       "        16., 32., 48.],\n",
       "       [ 6.,  8., 12., 24.,  2.,  3.,  4.,  4., 12., 16.,  9., 18., 36.,\n",
       "        16., 32., 48.],\n",
       "       [ 6.,  8., 12., 24.,  2.,  3.,  4.,  4., 12., 16.,  9., 18., 36.,\n",
       "        16., 32., 48.]])"
      ]
     },
     "execution_count": 57,
     "metadata": {},
     "output_type": "execute_result"
    }
   ],
   "source": [
    "tz = build_data(tx, comb3= 1)\n",
    "\n",
    "tz"
   ]
  },
  {
   "cell_type": "code",
   "execution_count": 36,
   "metadata": {},
   "outputs": [
    {
     "data": {
      "text/plain": [
       "array([[ 1.41421356,  0.        , -1.41421356, -2.        ],\n",
       "       [ 1.41421356,  0.        , -1.41421356, -2.        ],\n",
       "       [ 1.41421356,  0.        , -1.41421356, -2.        ],\n",
       "       [ 1.41421356,  0.        , -1.41421356, -2.        ],\n",
       "       [ 1.41421356,  0.        , -1.41421356, -2.        ],\n",
       "       [ 1.41421356,  0.        , -1.41421356, -2.        ],\n",
       "       [ 1.41421356,  0.        , -1.41421356, -2.        ]])"
      ]
     },
     "execution_count": 36,
     "metadata": {},
     "output_type": "execute_result"
    }
   ],
   "source": [
    "ty = (-tx + 2)*2\n",
    "tz = np.where(ty < 0, -np.sqrt( np.abs(ty) ), np.sqrt(np.abs(ty)))"
   ]
  },
  {
   "cell_type": "code",
   "execution_count": 32,
   "metadata": {},
   "outputs": [
    {
     "data": {
      "text/plain": [
       "array([[-1.41421356, -0.        , -1.41421356, -2.        ],\n",
       "       [-1.41421356, -0.        , -1.41421356, -2.        ],\n",
       "       [-1.41421356, -0.        , -1.41421356, -2.        ],\n",
       "       [-1.41421356, -0.        , -1.41421356, -2.        ],\n",
       "       [-1.41421356, -0.        , -1.41421356, -2.        ],\n",
       "       [-1.41421356, -0.        , -1.41421356, -2.        ],\n",
       "       [-1.41421356, -0.        , -1.41421356, -2.        ]])"
      ]
     },
     "execution_count": 32,
     "metadata": {},
     "output_type": "execute_result"
    }
   ],
   "source": [
    "- np.sqrt( np.abs(ty))"
   ]
  },
  {
   "cell_type": "code",
   "execution_count": null,
   "metadata": {},
   "outputs": [],
   "source": []
  }
 ],
 "metadata": {
  "kernelspec": {
   "display_name": "Python 3",
   "language": "python",
   "name": "python3"
  },
  "language_info": {
   "codemirror_mode": {
    "name": "ipython",
    "version": 3
   },
   "file_extension": ".py",
   "mimetype": "text/x-python",
   "name": "python",
   "nbconvert_exporter": "python",
   "pygments_lexer": "ipython3",
   "version": "3.6.5"
  }
 },
 "nbformat": 4,
 "nbformat_minor": 2
}
